{
 "cells": [
  {
   "cell_type": "code",
   "execution_count": 340,
   "metadata": {
    "colab": {
     "base_uri": "https://localhost:8080/",
     "height": 197
    },
    "colab_type": "code",
    "id": "ni_587_-UqL5",
    "outputId": "97670e9a-7442-4356-cf67-4f7f074948b1"
   },
   "outputs": [
    {
     "data": {
      "text/html": [
       "<div>\n",
       "<style scoped>\n",
       "    .dataframe tbody tr th:only-of-type {\n",
       "        vertical-align: middle;\n",
       "    }\n",
       "\n",
       "    .dataframe tbody tr th {\n",
       "        vertical-align: top;\n",
       "    }\n",
       "\n",
       "    .dataframe thead th {\n",
       "        text-align: right;\n",
       "    }\n",
       "</style>\n",
       "<table border=\"1\" class=\"dataframe\">\n",
       "  <thead>\n",
       "    <tr style=\"text-align: right;\">\n",
       "      <th></th>\n",
       "      <th>gender</th>\n",
       "      <th>race</th>\n",
       "      <th>parental_level_of_education</th>\n",
       "      <th>lunch</th>\n",
       "      <th>test_preparation_course</th>\n",
       "      <th>math_score</th>\n",
       "      <th>reading_score</th>\n",
       "      <th>writing_score</th>\n",
       "    </tr>\n",
       "  </thead>\n",
       "  <tbody>\n",
       "    <tr>\n",
       "      <th>0</th>\n",
       "      <td>female</td>\n",
       "      <td>group B</td>\n",
       "      <td>bachelor's degree</td>\n",
       "      <td>standard</td>\n",
       "      <td>none</td>\n",
       "      <td>72</td>\n",
       "      <td>72</td>\n",
       "      <td>74</td>\n",
       "    </tr>\n",
       "    <tr>\n",
       "      <th>1</th>\n",
       "      <td>female</td>\n",
       "      <td>group C</td>\n",
       "      <td>some college</td>\n",
       "      <td>standard</td>\n",
       "      <td>completed</td>\n",
       "      <td>69</td>\n",
       "      <td>90</td>\n",
       "      <td>88</td>\n",
       "    </tr>\n",
       "    <tr>\n",
       "      <th>2</th>\n",
       "      <td>female</td>\n",
       "      <td>group B</td>\n",
       "      <td>master's degree</td>\n",
       "      <td>standard</td>\n",
       "      <td>none</td>\n",
       "      <td>90</td>\n",
       "      <td>95</td>\n",
       "      <td>93</td>\n",
       "    </tr>\n",
       "    <tr>\n",
       "      <th>3</th>\n",
       "      <td>male</td>\n",
       "      <td>group A</td>\n",
       "      <td>associate's degree</td>\n",
       "      <td>free/reduced</td>\n",
       "      <td>none</td>\n",
       "      <td>47</td>\n",
       "      <td>57</td>\n",
       "      <td>44</td>\n",
       "    </tr>\n",
       "    <tr>\n",
       "      <th>4</th>\n",
       "      <td>male</td>\n",
       "      <td>group C</td>\n",
       "      <td>some college</td>\n",
       "      <td>standard</td>\n",
       "      <td>none</td>\n",
       "      <td>76</td>\n",
       "      <td>78</td>\n",
       "      <td>75</td>\n",
       "    </tr>\n",
       "  </tbody>\n",
       "</table>\n",
       "</div>"
      ],
      "text/plain": [
       "   gender     race  ... reading_score writing_score\n",
       "0  female  group B  ...            72            74\n",
       "1  female  group C  ...            90            88\n",
       "2  female  group B  ...            95            93\n",
       "3    male  group A  ...            57            44\n",
       "4    male  group C  ...            78            75\n",
       "\n",
       "[5 rows x 8 columns]"
      ]
     },
     "execution_count": 340,
     "metadata": {
      "tags": []
     },
     "output_type": "execute_result"
    }
   ],
   "source": [
    "import pandas as pd\n",
    "students=pd.read_csv(\"students.csv\")\n",
    "students.head()"
   ]
  },
  {
   "cell_type": "code",
   "execution_count": 341,
   "metadata": {
    "colab": {
     "base_uri": "https://localhost:8080/",
     "height": 197
    },
    "colab_type": "code",
    "id": "S-kjY6DEVN4o",
    "outputId": "513d1ae5-e362-4419-8313-3b81415ff37e"
   },
   "outputs": [
    {
     "data": {
      "text/html": [
       "<div>\n",
       "<style scoped>\n",
       "    .dataframe tbody tr th:only-of-type {\n",
       "        vertical-align: middle;\n",
       "    }\n",
       "\n",
       "    .dataframe tbody tr th {\n",
       "        vertical-align: top;\n",
       "    }\n",
       "\n",
       "    .dataframe thead th {\n",
       "        text-align: right;\n",
       "    }\n",
       "</style>\n",
       "<table border=\"1\" class=\"dataframe\">\n",
       "  <thead>\n",
       "    <tr style=\"text-align: right;\">\n",
       "      <th></th>\n",
       "      <th>gender</th>\n",
       "      <th>race</th>\n",
       "      <th>parental_level_of_education</th>\n",
       "      <th>lunch</th>\n",
       "      <th>test_preparation_course</th>\n",
       "      <th>math_score</th>\n",
       "      <th>reading_score</th>\n",
       "      <th>writing_score</th>\n",
       "      <th>total</th>\n",
       "      <th>average</th>\n",
       "    </tr>\n",
       "  </thead>\n",
       "  <tbody>\n",
       "    <tr>\n",
       "      <th>0</th>\n",
       "      <td>female</td>\n",
       "      <td>group B</td>\n",
       "      <td>bachelor's degree</td>\n",
       "      <td>standard</td>\n",
       "      <td>none</td>\n",
       "      <td>72</td>\n",
       "      <td>72</td>\n",
       "      <td>74</td>\n",
       "      <td>218</td>\n",
       "      <td>72.666667</td>\n",
       "    </tr>\n",
       "    <tr>\n",
       "      <th>1</th>\n",
       "      <td>female</td>\n",
       "      <td>group C</td>\n",
       "      <td>some college</td>\n",
       "      <td>standard</td>\n",
       "      <td>completed</td>\n",
       "      <td>69</td>\n",
       "      <td>90</td>\n",
       "      <td>88</td>\n",
       "      <td>247</td>\n",
       "      <td>82.333333</td>\n",
       "    </tr>\n",
       "    <tr>\n",
       "      <th>2</th>\n",
       "      <td>female</td>\n",
       "      <td>group B</td>\n",
       "      <td>master's degree</td>\n",
       "      <td>standard</td>\n",
       "      <td>none</td>\n",
       "      <td>90</td>\n",
       "      <td>95</td>\n",
       "      <td>93</td>\n",
       "      <td>278</td>\n",
       "      <td>92.666667</td>\n",
       "    </tr>\n",
       "    <tr>\n",
       "      <th>3</th>\n",
       "      <td>male</td>\n",
       "      <td>group A</td>\n",
       "      <td>associate's degree</td>\n",
       "      <td>free/reduced</td>\n",
       "      <td>none</td>\n",
       "      <td>47</td>\n",
       "      <td>57</td>\n",
       "      <td>44</td>\n",
       "      <td>148</td>\n",
       "      <td>49.333333</td>\n",
       "    </tr>\n",
       "    <tr>\n",
       "      <th>4</th>\n",
       "      <td>male</td>\n",
       "      <td>group C</td>\n",
       "      <td>some college</td>\n",
       "      <td>standard</td>\n",
       "      <td>none</td>\n",
       "      <td>76</td>\n",
       "      <td>78</td>\n",
       "      <td>75</td>\n",
       "      <td>229</td>\n",
       "      <td>76.333333</td>\n",
       "    </tr>\n",
       "  </tbody>\n",
       "</table>\n",
       "</div>"
      ],
      "text/plain": [
       "   gender     race parental_level_of_education  ... writing_score total    average\n",
       "0  female  group B           bachelor's degree  ...            74   218  72.666667\n",
       "1  female  group C                some college  ...            88   247  82.333333\n",
       "2  female  group B             master's degree  ...            93   278  92.666667\n",
       "3    male  group A          associate's degree  ...            44   148  49.333333\n",
       "4    male  group C                some college  ...            75   229  76.333333\n",
       "\n",
       "[5 rows x 10 columns]"
      ]
     },
     "execution_count": 341,
     "metadata": {
      "tags": []
     },
     "output_type": "execute_result"
    }
   ],
   "source": [
    "students['total'] = students['math_score'] + students['reading_score'] + students['writing_score']\n",
    "students['average'] = students['total'] / 3\n",
    "students.head()"
   ]
  },
  {
   "cell_type": "code",
   "execution_count": 342,
   "metadata": {
    "colab": {
     "base_uri": "https://localhost:8080/",
     "height": 197
    },
    "colab_type": "code",
    "id": "9PYeZOaGV3sM",
    "outputId": "40218533-0797-4f2e-9af5-2eda9bba0871"
   },
   "outputs": [
    {
     "data": {
      "text/html": [
       "<div>\n",
       "<style scoped>\n",
       "    .dataframe tbody tr th:only-of-type {\n",
       "        vertical-align: middle;\n",
       "    }\n",
       "\n",
       "    .dataframe tbody tr th {\n",
       "        vertical-align: top;\n",
       "    }\n",
       "\n",
       "    .dataframe thead th {\n",
       "        text-align: right;\n",
       "    }\n",
       "</style>\n",
       "<table border=\"1\" class=\"dataframe\">\n",
       "  <thead>\n",
       "    <tr style=\"text-align: right;\">\n",
       "      <th></th>\n",
       "      <th>gender</th>\n",
       "      <th>race</th>\n",
       "      <th>parental_level_of_education</th>\n",
       "      <th>lunch</th>\n",
       "      <th>test_preparation_course</th>\n",
       "      <th>math_score</th>\n",
       "      <th>reading_score</th>\n",
       "      <th>writing_score</th>\n",
       "      <th>total</th>\n",
       "      <th>average</th>\n",
       "    </tr>\n",
       "  </thead>\n",
       "  <tbody>\n",
       "    <tr>\n",
       "      <th>0</th>\n",
       "      <td>female</td>\n",
       "      <td>group B</td>\n",
       "      <td>bachelor's degree</td>\n",
       "      <td>standard</td>\n",
       "      <td>none</td>\n",
       "      <td>72</td>\n",
       "      <td>72</td>\n",
       "      <td>74</td>\n",
       "      <td>218</td>\n",
       "      <td>72.666667</td>\n",
       "    </tr>\n",
       "    <tr>\n",
       "      <th>1</th>\n",
       "      <td>female</td>\n",
       "      <td>group C</td>\n",
       "      <td>some college</td>\n",
       "      <td>standard</td>\n",
       "      <td>completed</td>\n",
       "      <td>69</td>\n",
       "      <td>90</td>\n",
       "      <td>88</td>\n",
       "      <td>247</td>\n",
       "      <td>82.333333</td>\n",
       "    </tr>\n",
       "    <tr>\n",
       "      <th>2</th>\n",
       "      <td>female</td>\n",
       "      <td>group B</td>\n",
       "      <td>master's degree</td>\n",
       "      <td>standard</td>\n",
       "      <td>none</td>\n",
       "      <td>90</td>\n",
       "      <td>95</td>\n",
       "      <td>93</td>\n",
       "      <td>278</td>\n",
       "      <td>92.666667</td>\n",
       "    </tr>\n",
       "    <tr>\n",
       "      <th>3</th>\n",
       "      <td>male</td>\n",
       "      <td>group A</td>\n",
       "      <td>associate's degree</td>\n",
       "      <td>free/reduced</td>\n",
       "      <td>none</td>\n",
       "      <td>47</td>\n",
       "      <td>57</td>\n",
       "      <td>44</td>\n",
       "      <td>148</td>\n",
       "      <td>49.333333</td>\n",
       "    </tr>\n",
       "    <tr>\n",
       "      <th>4</th>\n",
       "      <td>male</td>\n",
       "      <td>group C</td>\n",
       "      <td>some college</td>\n",
       "      <td>standard</td>\n",
       "      <td>none</td>\n",
       "      <td>76</td>\n",
       "      <td>78</td>\n",
       "      <td>75</td>\n",
       "      <td>229</td>\n",
       "      <td>76.333333</td>\n",
       "    </tr>\n",
       "  </tbody>\n",
       "</table>\n",
       "</div>"
      ],
      "text/plain": [
       "   gender     race parental_level_of_education  ... writing_score total    average\n",
       "0  female  group B           bachelor's degree  ...            74   218  72.666667\n",
       "1  female  group C                some college  ...            88   247  82.333333\n",
       "2  female  group B             master's degree  ...            93   278  92.666667\n",
       "3    male  group A          associate's degree  ...            44   148  49.333333\n",
       "4    male  group C                some college  ...            75   229  76.333333\n",
       "\n",
       "[5 rows x 10 columns]"
      ]
     },
     "execution_count": 342,
     "metadata": {
      "tags": []
     },
     "output_type": "execute_result"
    }
   ],
   "source": [
    "\n",
    "students.head()"
   ]
  },
  {
   "cell_type": "code",
   "execution_count": 343,
   "metadata": {
    "colab": {
     "base_uri": "https://localhost:8080/",
     "height": 197
    },
    "colab_type": "code",
    "id": "mDFNWXK7WmrH",
    "outputId": "e39cf9da-a4b1-427a-a8a1-d773233d5c29"
   },
   "outputs": [
    {
     "data": {
      "text/html": [
       "<div>\n",
       "<style scoped>\n",
       "    .dataframe tbody tr th:only-of-type {\n",
       "        vertical-align: middle;\n",
       "    }\n",
       "\n",
       "    .dataframe tbody tr th {\n",
       "        vertical-align: top;\n",
       "    }\n",
       "\n",
       "    .dataframe thead th {\n",
       "        text-align: right;\n",
       "    }\n",
       "</style>\n",
       "<table border=\"1\" class=\"dataframe\">\n",
       "  <thead>\n",
       "    <tr style=\"text-align: right;\">\n",
       "      <th></th>\n",
       "      <th>gender</th>\n",
       "      <th>race</th>\n",
       "      <th>parental_level_of_education</th>\n",
       "      <th>lunch</th>\n",
       "      <th>test_preparation_course</th>\n",
       "      <th>math_score</th>\n",
       "      <th>reading_score</th>\n",
       "      <th>writing_score</th>\n",
       "      <th>average</th>\n",
       "    </tr>\n",
       "  </thead>\n",
       "  <tbody>\n",
       "    <tr>\n",
       "      <th>0</th>\n",
       "      <td>female</td>\n",
       "      <td>group B</td>\n",
       "      <td>bachelor's degree</td>\n",
       "      <td>standard</td>\n",
       "      <td>none</td>\n",
       "      <td>72</td>\n",
       "      <td>72</td>\n",
       "      <td>74</td>\n",
       "      <td>72.666667</td>\n",
       "    </tr>\n",
       "    <tr>\n",
       "      <th>1</th>\n",
       "      <td>female</td>\n",
       "      <td>group C</td>\n",
       "      <td>some college</td>\n",
       "      <td>standard</td>\n",
       "      <td>completed</td>\n",
       "      <td>69</td>\n",
       "      <td>90</td>\n",
       "      <td>88</td>\n",
       "      <td>82.333333</td>\n",
       "    </tr>\n",
       "    <tr>\n",
       "      <th>2</th>\n",
       "      <td>female</td>\n",
       "      <td>group B</td>\n",
       "      <td>master's degree</td>\n",
       "      <td>standard</td>\n",
       "      <td>none</td>\n",
       "      <td>90</td>\n",
       "      <td>95</td>\n",
       "      <td>93</td>\n",
       "      <td>92.666667</td>\n",
       "    </tr>\n",
       "    <tr>\n",
       "      <th>3</th>\n",
       "      <td>male</td>\n",
       "      <td>group A</td>\n",
       "      <td>associate's degree</td>\n",
       "      <td>free/reduced</td>\n",
       "      <td>none</td>\n",
       "      <td>47</td>\n",
       "      <td>57</td>\n",
       "      <td>44</td>\n",
       "      <td>49.333333</td>\n",
       "    </tr>\n",
       "    <tr>\n",
       "      <th>4</th>\n",
       "      <td>male</td>\n",
       "      <td>group C</td>\n",
       "      <td>some college</td>\n",
       "      <td>standard</td>\n",
       "      <td>none</td>\n",
       "      <td>76</td>\n",
       "      <td>78</td>\n",
       "      <td>75</td>\n",
       "      <td>76.333333</td>\n",
       "    </tr>\n",
       "  </tbody>\n",
       "</table>\n",
       "</div>"
      ],
      "text/plain": [
       "   gender     race  ... writing_score    average\n",
       "0  female  group B  ...            74  72.666667\n",
       "1  female  group C  ...            88  82.333333\n",
       "2  female  group B  ...            93  92.666667\n",
       "3    male  group A  ...            44  49.333333\n",
       "4    male  group C  ...            75  76.333333\n",
       "\n",
       "[5 rows x 9 columns]"
      ]
     },
     "execution_count": 343,
     "metadata": {
      "tags": []
     },
     "output_type": "execute_result"
    }
   ],
   "source": [
    "students=students.drop(\"total\",axis=1)\n",
    "students.head()\n"
   ]
  },
  {
   "cell_type": "code",
   "execution_count": 344,
   "metadata": {
    "colab": {
     "base_uri": "https://localhost:8080/",
     "height": 283
    },
    "colab_type": "code",
    "id": "CnCeWSQ6XI97",
    "outputId": "39533b4b-cf45-4227-db26-8bfa62116885"
   },
   "outputs": [
    {
     "name": "stdout",
     "output_type": "stream",
     "text": [
      "<class 'pandas.core.frame.DataFrame'>\n",
      "RangeIndex: 1000 entries, 0 to 999\n",
      "Data columns (total 9 columns):\n",
      " #   Column                       Non-Null Count  Dtype  \n",
      "---  ------                       --------------  -----  \n",
      " 0   gender                       1000 non-null   object \n",
      " 1   race                         1000 non-null   object \n",
      " 2   parental_level_of_education  1000 non-null   object \n",
      " 3   lunch                        1000 non-null   object \n",
      " 4   test_preparation_course      1000 non-null   object \n",
      " 5   math_score                   1000 non-null   int64  \n",
      " 6   reading_score                1000 non-null   int64  \n",
      " 7   writing_score                1000 non-null   int64  \n",
      " 8   average                      1000 non-null   float64\n",
      "dtypes: float64(1), int64(3), object(5)\n",
      "memory usage: 70.4+ KB\n"
     ]
    }
   ],
   "source": [
    "students.info()"
   ]
  },
  {
   "cell_type": "code",
   "execution_count": 345,
   "metadata": {
    "colab": {
     "base_uri": "https://localhost:8080/",
     "height": 197
    },
    "colab_type": "code",
    "id": "SrYVWeASZDkM",
    "outputId": "3ec9d01d-d3c4-47f9-9ca1-eee6c41d7a0b"
   },
   "outputs": [
    {
     "data": {
      "text/html": [
       "<div>\n",
       "<style scoped>\n",
       "    .dataframe tbody tr th:only-of-type {\n",
       "        vertical-align: middle;\n",
       "    }\n",
       "\n",
       "    .dataframe tbody tr th {\n",
       "        vertical-align: top;\n",
       "    }\n",
       "\n",
       "    .dataframe thead th {\n",
       "        text-align: right;\n",
       "    }\n",
       "</style>\n",
       "<table border=\"1\" class=\"dataframe\">\n",
       "  <thead>\n",
       "    <tr style=\"text-align: right;\">\n",
       "      <th></th>\n",
       "      <th>gender</th>\n",
       "      <th>race</th>\n",
       "      <th>parental_level_of_education</th>\n",
       "      <th>lunch</th>\n",
       "      <th>test_preparation_course</th>\n",
       "      <th>math_score</th>\n",
       "      <th>reading_score</th>\n",
       "      <th>writing_score</th>\n",
       "      <th>average</th>\n",
       "    </tr>\n",
       "  </thead>\n",
       "  <tbody>\n",
       "    <tr>\n",
       "      <th>0</th>\n",
       "      <td>0</td>\n",
       "      <td>1</td>\n",
       "      <td>1</td>\n",
       "      <td>1</td>\n",
       "      <td>1</td>\n",
       "      <td>72</td>\n",
       "      <td>72</td>\n",
       "      <td>74</td>\n",
       "      <td>72.666667</td>\n",
       "    </tr>\n",
       "    <tr>\n",
       "      <th>1</th>\n",
       "      <td>0</td>\n",
       "      <td>2</td>\n",
       "      <td>4</td>\n",
       "      <td>1</td>\n",
       "      <td>0</td>\n",
       "      <td>69</td>\n",
       "      <td>90</td>\n",
       "      <td>88</td>\n",
       "      <td>82.333333</td>\n",
       "    </tr>\n",
       "    <tr>\n",
       "      <th>2</th>\n",
       "      <td>0</td>\n",
       "      <td>1</td>\n",
       "      <td>3</td>\n",
       "      <td>1</td>\n",
       "      <td>1</td>\n",
       "      <td>90</td>\n",
       "      <td>95</td>\n",
       "      <td>93</td>\n",
       "      <td>92.666667</td>\n",
       "    </tr>\n",
       "    <tr>\n",
       "      <th>3</th>\n",
       "      <td>1</td>\n",
       "      <td>0</td>\n",
       "      <td>0</td>\n",
       "      <td>0</td>\n",
       "      <td>1</td>\n",
       "      <td>47</td>\n",
       "      <td>57</td>\n",
       "      <td>44</td>\n",
       "      <td>49.333333</td>\n",
       "    </tr>\n",
       "    <tr>\n",
       "      <th>4</th>\n",
       "      <td>1</td>\n",
       "      <td>2</td>\n",
       "      <td>4</td>\n",
       "      <td>1</td>\n",
       "      <td>1</td>\n",
       "      <td>76</td>\n",
       "      <td>78</td>\n",
       "      <td>75</td>\n",
       "      <td>76.333333</td>\n",
       "    </tr>\n",
       "  </tbody>\n",
       "</table>\n",
       "</div>"
      ],
      "text/plain": [
       "   gender  race  ...  writing_score    average\n",
       "0       0     1  ...             74  72.666667\n",
       "1       0     2  ...             88  82.333333\n",
       "2       0     1  ...             93  92.666667\n",
       "3       1     0  ...             44  49.333333\n",
       "4       1     2  ...             75  76.333333\n",
       "\n",
       "[5 rows x 9 columns]"
      ]
     },
     "execution_count": 345,
     "metadata": {
      "tags": []
     },
     "output_type": "execute_result"
    }
   ],
   "source": [
    " from sklearn.preprocessing import LabelEncoder\n",
    " le=LabelEncoder()\n",
    " students['gender']=le.fit_transform(students.gender)\n",
    " students['race']=le.fit_transform(students.race)\n",
    " students['parental_level_of_education']=le.fit_transform(students.parental_level_of_education)\n",
    " students['lunch']=le.fit_transform(students.lunch)\n",
    " students['test_preparation_course']=le.fit_transform(students.test_preparation_course)\n",
    " students.head()\n"
   ]
  },
  {
   "cell_type": "code",
   "execution_count": 346,
   "metadata": {
    "colab": {
     "base_uri": "https://localhost:8080/",
     "height": 287
    },
    "colab_type": "code",
    "id": "wuMo42YtZtvz",
    "outputId": "c163ce8d-b76b-40c0-f68c-ee70a95d6e28"
   },
   "outputs": [
    {
     "data": {
      "text/html": [
       "<div>\n",
       "<style scoped>\n",
       "    .dataframe tbody tr th:only-of-type {\n",
       "        vertical-align: middle;\n",
       "    }\n",
       "\n",
       "    .dataframe tbody tr th {\n",
       "        vertical-align: top;\n",
       "    }\n",
       "\n",
       "    .dataframe thead th {\n",
       "        text-align: right;\n",
       "    }\n",
       "</style>\n",
       "<table border=\"1\" class=\"dataframe\">\n",
       "  <thead>\n",
       "    <tr style=\"text-align: right;\">\n",
       "      <th></th>\n",
       "      <th>gender</th>\n",
       "      <th>race</th>\n",
       "      <th>parental_level_of_education</th>\n",
       "      <th>lunch</th>\n",
       "      <th>test_preparation_course</th>\n",
       "      <th>math_score</th>\n",
       "      <th>reading_score</th>\n",
       "      <th>writing_score</th>\n",
       "      <th>average</th>\n",
       "    </tr>\n",
       "  </thead>\n",
       "  <tbody>\n",
       "    <tr>\n",
       "      <th>count</th>\n",
       "      <td>1000.000000</td>\n",
       "      <td>1000.000000</td>\n",
       "      <td>1000.000000</td>\n",
       "      <td>1000.000000</td>\n",
       "      <td>1000.000000</td>\n",
       "      <td>1000.00000</td>\n",
       "      <td>1000.000000</td>\n",
       "      <td>1000.000000</td>\n",
       "      <td>1000.000000</td>\n",
       "    </tr>\n",
       "    <tr>\n",
       "      <th>mean</th>\n",
       "      <td>0.482000</td>\n",
       "      <td>2.174000</td>\n",
       "      <td>2.486000</td>\n",
       "      <td>0.645000</td>\n",
       "      <td>0.642000</td>\n",
       "      <td>66.08900</td>\n",
       "      <td>69.169000</td>\n",
       "      <td>68.054000</td>\n",
       "      <td>67.770667</td>\n",
       "    </tr>\n",
       "    <tr>\n",
       "      <th>std</th>\n",
       "      <td>0.499926</td>\n",
       "      <td>1.157179</td>\n",
       "      <td>1.829522</td>\n",
       "      <td>0.478753</td>\n",
       "      <td>0.479652</td>\n",
       "      <td>15.16308</td>\n",
       "      <td>14.600192</td>\n",
       "      <td>15.195657</td>\n",
       "      <td>14.257326</td>\n",
       "    </tr>\n",
       "    <tr>\n",
       "      <th>min</th>\n",
       "      <td>0.000000</td>\n",
       "      <td>0.000000</td>\n",
       "      <td>0.000000</td>\n",
       "      <td>0.000000</td>\n",
       "      <td>0.000000</td>\n",
       "      <td>0.00000</td>\n",
       "      <td>17.000000</td>\n",
       "      <td>10.000000</td>\n",
       "      <td>9.000000</td>\n",
       "    </tr>\n",
       "    <tr>\n",
       "      <th>25%</th>\n",
       "      <td>0.000000</td>\n",
       "      <td>1.000000</td>\n",
       "      <td>1.000000</td>\n",
       "      <td>0.000000</td>\n",
       "      <td>0.000000</td>\n",
       "      <td>57.00000</td>\n",
       "      <td>59.000000</td>\n",
       "      <td>57.750000</td>\n",
       "      <td>58.333333</td>\n",
       "    </tr>\n",
       "    <tr>\n",
       "      <th>50%</th>\n",
       "      <td>0.000000</td>\n",
       "      <td>2.000000</td>\n",
       "      <td>2.000000</td>\n",
       "      <td>1.000000</td>\n",
       "      <td>1.000000</td>\n",
       "      <td>66.00000</td>\n",
       "      <td>70.000000</td>\n",
       "      <td>69.000000</td>\n",
       "      <td>68.333333</td>\n",
       "    </tr>\n",
       "    <tr>\n",
       "      <th>75%</th>\n",
       "      <td>1.000000</td>\n",
       "      <td>3.000000</td>\n",
       "      <td>4.000000</td>\n",
       "      <td>1.000000</td>\n",
       "      <td>1.000000</td>\n",
       "      <td>77.00000</td>\n",
       "      <td>79.000000</td>\n",
       "      <td>79.000000</td>\n",
       "      <td>77.666667</td>\n",
       "    </tr>\n",
       "    <tr>\n",
       "      <th>max</th>\n",
       "      <td>1.000000</td>\n",
       "      <td>4.000000</td>\n",
       "      <td>5.000000</td>\n",
       "      <td>1.000000</td>\n",
       "      <td>1.000000</td>\n",
       "      <td>100.00000</td>\n",
       "      <td>100.000000</td>\n",
       "      <td>100.000000</td>\n",
       "      <td>100.000000</td>\n",
       "    </tr>\n",
       "  </tbody>\n",
       "</table>\n",
       "</div>"
      ],
      "text/plain": [
       "            gender         race  ...  writing_score      average\n",
       "count  1000.000000  1000.000000  ...    1000.000000  1000.000000\n",
       "mean      0.482000     2.174000  ...      68.054000    67.770667\n",
       "std       0.499926     1.157179  ...      15.195657    14.257326\n",
       "min       0.000000     0.000000  ...      10.000000     9.000000\n",
       "25%       0.000000     1.000000  ...      57.750000    58.333333\n",
       "50%       0.000000     2.000000  ...      69.000000    68.333333\n",
       "75%       1.000000     3.000000  ...      79.000000    77.666667\n",
       "max       1.000000     4.000000  ...     100.000000   100.000000\n",
       "\n",
       "[8 rows x 9 columns]"
      ]
     },
     "execution_count": 346,
     "metadata": {
      "tags": []
     },
     "output_type": "execute_result"
    }
   ],
   "source": [
    "students.describe()"
   ]
  },
  {
   "cell_type": "code",
   "execution_count": 347,
   "metadata": {
    "colab": {
     "base_uri": "https://localhost:8080/",
     "height": 1000
    },
    "colab_type": "code",
    "id": "xJ4hx2_HZ8MM",
    "outputId": "0b6859bc-c42b-4b11-9dc4-d39a5699ce77"
   },
   "outputs": [
    {
     "data": {
      "text/plain": [
       "array([[<matplotlib.axes._subplots.AxesSubplot object at 0x7f28c8e95b70>,\n",
       "        <matplotlib.axes._subplots.AxesSubplot object at 0x7f28c8c18438>,\n",
       "        <matplotlib.axes._subplots.AxesSubplot object at 0x7f28c8bc56d8>],\n",
       "       [<matplotlib.axes._subplots.AxesSubplot object at 0x7f28c8b74a58>,\n",
       "        <matplotlib.axes._subplots.AxesSubplot object at 0x7f28c8b22dd8>,\n",
       "        <matplotlib.axes._subplots.AxesSubplot object at 0x7f28c8b5f198>],\n",
       "       [<matplotlib.axes._subplots.AxesSubplot object at 0x7f28c8b10518>,\n",
       "        <matplotlib.axes._subplots.AxesSubplot object at 0x7f28c8ac2860>,\n",
       "        <matplotlib.axes._subplots.AxesSubplot object at 0x7f28c8ac28d0>]],\n",
       "      dtype=object)"
      ]
     },
     "execution_count": 347,
     "metadata": {
      "tags": []
     },
     "output_type": "execute_result"
    },
    {
     "data": {
      "image/png": "[encoded data removed]",
      "text/plain": [
       "<Figure size 2160x1800 with 9 Axes>"
      ]
     },
     "metadata": {
      "needs_background": "light",
      "tags": []
     },
     "output_type": "display_data"
    }
   ],
   "source": [
    "\n",
    "import matplotlib.pyplot as plt\n",
    "students.hist(bins=50,figsize=(30,25))"
   ]
  },
  {
   "cell_type": "code",
   "execution_count": 348,
   "metadata": {
    "colab": {
     "base_uri": "https://localhost:8080/",
     "height": 67
    },
    "colab_type": "code",
    "id": "MTYMv1WIaUIS",
    "outputId": "e92c6cca-e723-4333-ec9c-13946be11d1f"
   },
   "outputs": [
    {
     "name": "stdout",
     "output_type": "stream",
     "text": [
      "Rows in train set:800\n",
      "Rows in Test set: 200\n",
      "\n"
     ]
    }
   ],
   "source": [
    "from sklearn.model_selection import train_test_split\n",
    "train_set,test_set=train_test_split(students,test_size=0.2,random_state=42)\n",
    "print(f\"Rows in train set:{len(train_set)}\\nRows in Test set: {len(test_set)}\\n\")"
   ]
  },
  {
   "cell_type": "code",
   "execution_count": 0,
   "metadata": {
    "colab": {},
    "colab_type": "code",
    "id": "an1Gi1LlcwGK"
   },
   "outputs": [],
   "source": [
    "from sklearn.model_selection import StratifiedShuffleSplit\n",
    "split=StratifiedShuffleSplit(n_splits=1,test_size=0.2,random_state=42)\n",
    "for train_index,test_index in split.split(students,students['lunch']):\n",
    "    strat_train_set=students.loc[train_index]\n",
    "    strat_test_set=students.loc[test_index]"
   ]
  },
  {
   "cell_type": "code",
   "execution_count": 350,
   "metadata": {
    "colab": {
     "base_uri": "https://localhost:8080/",
     "height": 67
    },
    "colab_type": "code",
    "id": "8Aob69TSfQ8D",
    "outputId": "db1bdf21-0120-4d88-d231-520e03259206"
   },
   "outputs": [
    {
     "data": {
      "text/plain": [
       "1    129\n",
       "0     71\n",
       "Name: lunch, dtype: int64"
      ]
     },
     "execution_count": 350,
     "metadata": {
      "tags": []
     },
     "output_type": "execute_result"
    }
   ],
   "source": [
    "strat_test_set['lunch'].value_counts()"
   ]
  },
  {
   "cell_type": "code",
   "execution_count": 351,
   "metadata": {
    "colab": {
     "base_uri": "https://localhost:8080/",
     "height": 67
    },
    "colab_type": "code",
    "id": "4PxTuNXPfbKX",
    "outputId": "dd202ed1-c710-4a09-c589-f34627c7d316"
   },
   "outputs": [
    {
     "data": {
      "text/plain": [
       "1    516\n",
       "0    284\n",
       "Name: lunch, dtype: int64"
      ]
     },
     "execution_count": 351,
     "metadata": {
      "tags": []
     },
     "output_type": "execute_result"
    }
   ],
   "source": [
    "strat_train_set['lunch'].value_counts()"
   ]
  },
  {
   "cell_type": "code",
   "execution_count": 0,
   "metadata": {
    "colab": {},
    "colab_type": "code",
    "id": "WJF7roCcaj1P"
   },
   "outputs": [],
   "source": [
    "corr_matrix=students.corr()"
   ]
  },
  {
   "cell_type": "code",
   "execution_count": 353,
   "metadata": {
    "colab": {
     "base_uri": "https://localhost:8080/",
     "height": 183
    },
    "colab_type": "code",
    "id": "qDSdFMNpa6nF",
    "outputId": "8a4db834-d839-4e6d-9c69-fbf964813de7"
   },
   "outputs": [
    {
     "data": {
      "text/plain": [
       "average                        1.000000\n",
       "reading_score                  0.970331\n",
       "writing_score                  0.965667\n",
       "math_score                     0.918746\n",
       "lunch                          0.290064\n",
       "race                           0.185168\n",
       "parental_level_of_education   -0.078883\n",
       "gender                        -0.130861\n",
       "test_preparation_course       -0.256710\n",
       "Name: average, dtype: float64"
      ]
     },
     "execution_count": 353,
     "metadata": {
      "tags": []
     },
     "output_type": "execute_result"
    }
   ],
   "source": [
    "corr_matrix['average'].sort_values(ascending=False)"
   ]
  },
  {
   "cell_type": "code",
   "execution_count": 354,
   "metadata": {
    "colab": {
     "base_uri": "https://localhost:8080/",
     "height": 1000
    },
    "colab_type": "code",
    "id": "oxJJTlyNbA6T",
    "outputId": "cd84ec32-970d-47f6-8549-411cc8e08308"
   },
   "outputs": [
    {
     "data": {
      "text/plain": [
       "array([[<matplotlib.axes._subplots.AxesSubplot object at 0x7f28c9654048>,\n",
       "        <matplotlib.axes._subplots.AxesSubplot object at 0x7f28c9884908>,\n",
       "        <matplotlib.axes._subplots.AxesSubplot object at 0x7f28c9925550>,\n",
       "        <matplotlib.axes._subplots.AxesSubplot object at 0x7f28ca9f3ef0>,\n",
       "        <matplotlib.axes._subplots.AxesSubplot object at 0x7f28ca779be0>,\n",
       "        <matplotlib.axes._subplots.AxesSubplot object at 0x7f28cbee13c8>],\n",
       "       [<matplotlib.axes._subplots.AxesSubplot object at 0x7f28cd2fe4a8>,\n",
       "        <matplotlib.axes._subplots.AxesSubplot object at 0x7f28cd262128>,\n",
       "        <matplotlib.axes._subplots.AxesSubplot object at 0x7f28cd2622b0>,\n",
       "        <matplotlib.axes._subplots.AxesSubplot object at 0x7f28cd1130f0>,\n",
       "        <matplotlib.axes._subplots.AxesSubplot object at 0x7f28ca77ef98>,\n",
       "        <matplotlib.axes._subplots.AxesSubplot object at 0x7f28caadf5f8>],\n",
       "       [<matplotlib.axes._subplots.AxesSubplot object at 0x7f28caac0c18>,\n",
       "        <matplotlib.axes._subplots.AxesSubplot object at 0x7f28cb4c95f8>,\n",
       "        <matplotlib.axes._subplots.AxesSubplot object at 0x7f28cce24048>,\n",
       "        <matplotlib.axes._subplots.AxesSubplot object at 0x7f28cbb06a90>,\n",
       "        <matplotlib.axes._subplots.AxesSubplot object at 0x7f28cd114c18>,\n",
       "        <matplotlib.axes._subplots.AxesSubplot object at 0x7f28cf7a9f60>],\n",
       "       [<matplotlib.axes._subplots.AxesSubplot object at 0x7f28cce54358>,\n",
       "        <matplotlib.axes._subplots.AxesSubplot object at 0x7f28cd2456d8>,\n",
       "        <matplotlib.axes._subplots.AxesSubplot object at 0x7f28cf735a58>,\n",
       "        <matplotlib.axes._subplots.AxesSubplot object at 0x7f28cab4add8>,\n",
       "        <matplotlib.axes._subplots.AxesSubplot object at 0x7f28ca875198>,\n",
       "        <matplotlib.axes._subplots.AxesSubplot object at 0x7f28cf709518>],\n",
       "       [<matplotlib.axes._subplots.AxesSubplot object at 0x7f28ccb34898>,\n",
       "        <matplotlib.axes._subplots.AxesSubplot object at 0x7f28c92a3c18>,\n",
       "        <matplotlib.axes._subplots.AxesSubplot object at 0x7f28c9953f98>,\n",
       "        <matplotlib.axes._subplots.AxesSubplot object at 0x7f28ca564358>,\n",
       "        <matplotlib.axes._subplots.AxesSubplot object at 0x7f28ca60c6d8>,\n",
       "        <matplotlib.axes._subplots.AxesSubplot object at 0x7f28c9615a58>],\n",
       "       [<matplotlib.axes._subplots.AxesSubplot object at 0x7f28cb8addd8>,\n",
       "        <matplotlib.axes._subplots.AxesSubplot object at 0x7f28ccbab198>,\n",
       "        <matplotlib.axes._subplots.AxesSubplot object at 0x7f28ca9d5518>,\n",
       "        <matplotlib.axes._subplots.AxesSubplot object at 0x7f28cab04898>,\n",
       "        <matplotlib.axes._subplots.AxesSubplot object at 0x7f28caa9ec18>,\n",
       "        <matplotlib.axes._subplots.AxesSubplot object at 0x7f28cb022f98>]],\n",
       "      dtype=object)"
      ]
     },
     "execution_count": 354,
     "metadata": {
      "tags": []
     },
     "output_type": "execute_result"
    },
    {
     "data": {
      "image/png": "[encoded data removed]",
      "text/plain": [
       "<Figure size 1080x720 with 36 Axes>"
      ]
     },
     "metadata": {
      "needs_background": "light",
      "tags": []
     },
     "output_type": "display_data"
    }
   ],
   "source": [
    "from pandas.plotting import scatter_matrix\n",
    "attributes=[\"average\",\"gender\",\"race\",\"parental_level_of_education\",\"lunch\",\"test_preparation_course\"]\n",
    "scatter_matrix(students[attributes],figsize=(15,10))"
   ]
  },
  {
   "cell_type": "code",
   "execution_count": 0,
   "metadata": {
    "colab": {},
    "colab_type": "code",
    "id": "6-kDlZ2ebZtH"
   },
   "outputs": [],
   "source": [
    "students=strat_train_set.drop(\"average\",axis=1)\n",
    "students_lables=strat_train_set[\"average\"].copy()"
   ]
  },
  {
   "cell_type": "code",
   "execution_count": 356,
   "metadata": {
    "colab": {
     "base_uri": "https://localhost:8080/",
     "height": 287
    },
    "colab_type": "code",
    "id": "GwzlyBbTf3tS",
    "outputId": "28f34a98-f959-4307-f960-d0c360d460bc"
   },
   "outputs": [
    {
     "data": {
      "text/html": [
       "<div>\n",
       "<style scoped>\n",
       "    .dataframe tbody tr th:only-of-type {\n",
       "        vertical-align: middle;\n",
       "    }\n",
       "\n",
       "    .dataframe tbody tr th {\n",
       "        vertical-align: top;\n",
       "    }\n",
       "\n",
       "    .dataframe thead th {\n",
       "        text-align: right;\n",
       "    }\n",
       "</style>\n",
       "<table border=\"1\" class=\"dataframe\">\n",
       "  <thead>\n",
       "    <tr style=\"text-align: right;\">\n",
       "      <th></th>\n",
       "      <th>gender</th>\n",
       "      <th>race</th>\n",
       "      <th>parental_level_of_education</th>\n",
       "      <th>lunch</th>\n",
       "      <th>test_preparation_course</th>\n",
       "      <th>math_score</th>\n",
       "      <th>reading_score</th>\n",
       "      <th>writing_score</th>\n",
       "    </tr>\n",
       "  </thead>\n",
       "  <tbody>\n",
       "    <tr>\n",
       "      <th>count</th>\n",
       "      <td>800.000000</td>\n",
       "      <td>800.0000</td>\n",
       "      <td>800.000000</td>\n",
       "      <td>800.000000</td>\n",
       "      <td>800.000000</td>\n",
       "      <td>800.00000</td>\n",
       "      <td>800.000000</td>\n",
       "      <td>800.00000</td>\n",
       "    </tr>\n",
       "    <tr>\n",
       "      <th>mean</th>\n",
       "      <td>0.473750</td>\n",
       "      <td>2.1775</td>\n",
       "      <td>2.497500</td>\n",
       "      <td>0.645000</td>\n",
       "      <td>0.638750</td>\n",
       "      <td>65.64375</td>\n",
       "      <td>68.840000</td>\n",
       "      <td>67.70250</td>\n",
       "    </tr>\n",
       "    <tr>\n",
       "      <th>std</th>\n",
       "      <td>0.499623</td>\n",
       "      <td>1.1652</td>\n",
       "      <td>1.831444</td>\n",
       "      <td>0.478813</td>\n",
       "      <td>0.480663</td>\n",
       "      <td>15.03394</td>\n",
       "      <td>14.537833</td>\n",
       "      <td>15.11877</td>\n",
       "    </tr>\n",
       "    <tr>\n",
       "      <th>min</th>\n",
       "      <td>0.000000</td>\n",
       "      <td>0.0000</td>\n",
       "      <td>0.000000</td>\n",
       "      <td>0.000000</td>\n",
       "      <td>0.000000</td>\n",
       "      <td>8.00000</td>\n",
       "      <td>23.000000</td>\n",
       "      <td>15.00000</td>\n",
       "    </tr>\n",
       "    <tr>\n",
       "      <th>25%</th>\n",
       "      <td>0.000000</td>\n",
       "      <td>1.0000</td>\n",
       "      <td>1.000000</td>\n",
       "      <td>0.000000</td>\n",
       "      <td>0.000000</td>\n",
       "      <td>56.00000</td>\n",
       "      <td>59.000000</td>\n",
       "      <td>57.00000</td>\n",
       "    </tr>\n",
       "    <tr>\n",
       "      <th>50%</th>\n",
       "      <td>0.000000</td>\n",
       "      <td>2.0000</td>\n",
       "      <td>2.000000</td>\n",
       "      <td>1.000000</td>\n",
       "      <td>1.000000</td>\n",
       "      <td>65.00000</td>\n",
       "      <td>69.000000</td>\n",
       "      <td>68.00000</td>\n",
       "    </tr>\n",
       "    <tr>\n",
       "      <th>75%</th>\n",
       "      <td>1.000000</td>\n",
       "      <td>3.0000</td>\n",
       "      <td>4.000000</td>\n",
       "      <td>1.000000</td>\n",
       "      <td>1.000000</td>\n",
       "      <td>76.00000</td>\n",
       "      <td>79.000000</td>\n",
       "      <td>78.00000</td>\n",
       "    </tr>\n",
       "    <tr>\n",
       "      <th>max</th>\n",
       "      <td>1.000000</td>\n",
       "      <td>4.0000</td>\n",
       "      <td>5.000000</td>\n",
       "      <td>1.000000</td>\n",
       "      <td>1.000000</td>\n",
       "      <td>100.00000</td>\n",
       "      <td>100.000000</td>\n",
       "      <td>100.00000</td>\n",
       "    </tr>\n",
       "  </tbody>\n",
       "</table>\n",
       "</div>"
      ],
      "text/plain": [
       "           gender      race  ...  reading_score  writing_score\n",
       "count  800.000000  800.0000  ...     800.000000      800.00000\n",
       "mean     0.473750    2.1775  ...      68.840000       67.70250\n",
       "std      0.499623    1.1652  ...      14.537833       15.11877\n",
       "min      0.000000    0.0000  ...      23.000000       15.00000\n",
       "25%      0.000000    1.0000  ...      59.000000       57.00000\n",
       "50%      0.000000    2.0000  ...      69.000000       68.00000\n",
       "75%      1.000000    3.0000  ...      79.000000       78.00000\n",
       "max      1.000000    4.0000  ...     100.000000      100.00000\n",
       "\n",
       "[8 rows x 8 columns]"
      ]
     },
     "execution_count": 356,
     "metadata": {
      "tags": []
     },
     "output_type": "execute_result"
    }
   ],
   "source": [
    "students.describe()"
   ]
  },
  {
   "cell_type": "code",
   "execution_count": 0,
   "metadata": {
    "colab": {},
    "colab_type": "code",
    "id": "1icuDCQlgAtu"
   },
   "outputs": [],
   "source": [
    "from sklearn.impute import SimpleImputer\n",
    "from sklearn.pipeline import Pipeline\n",
    "from sklearn.preprocessing import StandardScaler\n",
    "my_pipeline=Pipeline([('imputer',SimpleImputer(strategy=\"median\")),\n",
    "                      # .....add as many as you want in your pipeline\n",
    "                     ('std_scaler',StandardScaler()),\n",
    "                     ])"
   ]
  },
  {
   "cell_type": "code",
   "execution_count": 0,
   "metadata": {
    "colab": {},
    "colab_type": "code",
    "id": "xkCZp3JQgtST"
   },
   "outputs": [],
   "source": [
    "students_tr=my_pipeline.fit_transform(students)"
   ]
  },
  {
   "cell_type": "code",
   "execution_count": 359,
   "metadata": {
    "colab": {
     "base_uri": "https://localhost:8080/",
     "height": 233
    },
    "colab_type": "code",
    "id": "_k_SGPM1hFJG",
    "outputId": "e2ba2c6e-42bc-4c8d-da96-23f5b6a4b4eb"
   },
   "outputs": [
    {
     "data": {
      "text/plain": [
       "array([[-0.94880848, -0.15242967,  0.82090421, ..., -1.30744426,\n",
       "        -0.33313272, -0.11267881],\n",
       "       [-0.94880848, -0.15242967, -1.36453129, ...,  1.0220778 ,\n",
       "         0.56164525,  0.7477174 ],\n",
       "       [ 1.05395348,  1.56508775, -1.36453129, ...,  0.68928894,\n",
       "         0.1486708 , -0.04649449],\n",
       "       ...,\n",
       "       [ 1.05395348,  1.56508775, -1.36453129, ...,  1.42142444,\n",
       "         0.35515803,  0.54916443],\n",
       "       [ 1.05395348, -1.01118838, -1.36453129, ...,  0.95552003,\n",
       "         0.49281617, -0.24504746],\n",
       "       [-0.94880848, -1.01118838, -0.27181354, ...,  0.75584671,\n",
       "         0.90579062,  1.40956063]])"
      ]
     },
     "execution_count": 359,
     "metadata": {
      "tags": []
     },
     "output_type": "execute_result"
    }
   ],
   "source": [
    "students_tr"
   ]
  },
  {
   "cell_type": "code",
   "execution_count": 360,
   "metadata": {
    "colab": {
     "base_uri": "https://localhost:8080/",
     "height": 33
    },
    "colab_type": "code",
    "id": "GAHM48wLhIwu",
    "outputId": "410db258-9168-4032-f232-5a066dea601e"
   },
   "outputs": [
    {
     "data": {
      "text/plain": [
       "LinearRegression(copy_X=True, fit_intercept=True, n_jobs=None, normalize=False)"
      ]
     },
     "execution_count": 360,
     "metadata": {
      "tags": []
     },
     "output_type": "execute_result"
    }
   ],
   "source": [
    "from sklearn.linear_model import LinearRegression\n",
    "from sklearn.tree import DecisionTreeRegressor\n",
    "from sklearn.ensemble import RandomForestRegressor\n",
    "model=LinearRegression()\n",
    "#model=DecisionTreeRegressor()\n",
    "#model=RandomForestRegressor()\n",
    "model.fit(students_tr,students_lables)"
   ]
  },
  {
   "cell_type": "code",
   "execution_count": 0,
   "metadata": {
    "colab": {},
    "colab_type": "code",
    "id": "F-H_dGWXiJxh"
   },
   "outputs": [],
   "source": [
    "from sklearn.metrics import mean_squared_error\n",
    "import numpy as np\n",
    "students_predictions=model.predict(students_tr)\n",
    "mse=mean_squared_error(students_lables,students_predictions)\n",
    "rmse=np.sqrt(mse)"
   ]
  },
  {
   "cell_type": "code",
   "execution_count": 362,
   "metadata": {
    "colab": {
     "base_uri": "https://localhost:8080/",
     "height": 33
    },
    "colab_type": "code",
    "id": "EK0OwzNdkNt6",
    "outputId": "b5f86a14-7e63-4e5d-91ad-f5ec6900673b"
   },
   "outputs": [
    {
     "data": {
      "text/plain": [
       "9.685625372111122e-15"
      ]
     },
     "execution_count": 362,
     "metadata": {
      "tags": []
     },
     "output_type": "execute_result"
    }
   ],
   "source": [
    "rmse"
   ]
  },
  {
   "cell_type": "code",
   "execution_count": 0,
   "metadata": {
    "colab": {},
    "colab_type": "code",
    "id": "KaS-nG5rkP6B"
   },
   "outputs": [],
   "source": [
    "from sklearn.model_selection import cross_val_score\n",
    "scores=cross_val_score(model,students_tr,students_lables,scoring=\"neg_mean_squared_error\",cv=10)\n",
    "rmse_scores=np.sqrt(-scores)"
   ]
  },
  {
   "cell_type": "code",
   "execution_count": 364,
   "metadata": {
    "colab": {
     "base_uri": "https://localhost:8080/",
     "height": 67
    },
    "colab_type": "code",
    "id": "_rMC5XnkkeAU",
    "outputId": "b81490bc-53cc-42bf-a631-e7fa0909cf51"
   },
   "outputs": [
    {
     "data": {
      "text/plain": [
       "array([8.92608265e-15, 1.74589763e-14, 8.95255650e-15, 8.00346834e-15,\n",
       "       1.29076498e-14, 1.94630678e-14, 1.34874506e-14, 1.53631762e-14,\n",
       "       1.26421208e-14, 1.46697394e-14])"
      ]
     },
     "execution_count": 364,
     "metadata": {
      "tags": []
     },
     "output_type": "execute_result"
    }
   ],
   "source": [
    "rmse_scores"
   ]
  },
  {
   "cell_type": "code",
   "execution_count": 0,
   "metadata": {
    "colab": {},
    "colab_type": "code",
    "id": "sIPTTqf8kiA4"
   },
   "outputs": [],
   "source": [
    "def print_scores(scores):\n",
    "    print(\"Scores:\",scores)\n",
    "    print(\"Mean:\",scores.mean())\n",
    "    print(\"Standard deviation:\",scores.std())"
   ]
  },
  {
   "cell_type": "code",
   "execution_count": 366,
   "metadata": {
    "colab": {
     "base_uri": "https://localhost:8080/",
     "height": 100
    },
    "colab_type": "code",
    "id": "XuemvvCVkvOx",
    "outputId": "ce96b16f-1664-497b-c0bc-34816c313727"
   },
   "outputs": [
    {
     "name": "stdout",
     "output_type": "stream",
     "text": [
      "Scores: [8.92608265e-15 1.74589763e-14 8.95255650e-15 8.00346834e-15\n",
      " 1.29076498e-14 1.94630678e-14 1.34874506e-14 1.53631762e-14\n",
      " 1.26421208e-14 1.46697394e-14]\n",
      "Mean: 1.318742884665491e-14\n",
      "Standard deviation: 3.577613654675836e-15\n"
     ]
    }
   ],
   "source": [
    "print_scores(rmse_scores)"
   ]
  },
  {
   "cell_type": "code",
   "execution_count": 367,
   "metadata": {
    "colab": {
     "base_uri": "https://localhost:8080/",
     "height": 603
    },
    "colab_type": "code",
    "id": "1ScWxDurk0np",
    "outputId": "b9ce3786-f2c6-4a15-801b-310104111147"
   },
   "outputs": [
    {
     "name": "stdout",
     "output_type": "stream",
     "text": [
      "[93.22222222 67.11111111 72.33333333 70.         48.22222222 64.77777778\n",
      " 55.55555556 82.88888889 70.66666667 68.11111111 78.88888889 60.22222222\n",
      " 82.11111111 77.         50.33333333 61.22222222 83.33333333 63.\n",
      " 70.         30.         79.55555556 47.77777778  6.33333333 77.22222222\n",
      " 58.66666667 68.66666667 74.55555556 76.66666667 53.22222222 84.66666667\n",
      " 72.33333333 75.44444444 73.44444444 84.11111111 82.66666667 84.66666667\n",
      " 82.44444444 75.         89.44444444 66.77777778 83.55555556 73.88888889\n",
      " 85.55555556 45.11111111 78.44444444 54.         73.11111111 69.33333333\n",
      " 67.77777778 82.33333333 54.55555556 88.22222222 60.         97.33333333\n",
      " 64.44444444 86.22222222 39.33333333 75.55555556 46.55555556 71.22222222\n",
      " 97.22222222 64.66666667 63.33333333 59.11111111 68.22222222 81.11111111\n",
      " 70.77777778 38.33333333 49.11111111 55.11111111 76.11111111 73.44444444\n",
      " 70.44444444 82.         90.88888889 51.         62.44444444 74.88888889\n",
      " 76.33333333 96.88888889 75.33333333 62.55555556 65.22222222 68.22222222\n",
      " 87.66666667 76.88888889 86.77777778 73.11111111 50.         81.77777778\n",
      " 80.66666667 53.66666667 75.22222222 29.44444444 72.66666667 73.55555556\n",
      " 75.22222222 57.66666667 84.55555556 81.22222222 51.         73.11111111\n",
      " 40.55555556 66.77777778 82.44444444 80.88888889 66.66666667 64.77777778\n",
      " 69.11111111 64.         60.44444444 61.44444444 49.77777778 69.77777778\n",
      " 62.11111111 77.77777778 91.55555556 73.11111111 68.88888889 51.33333333\n",
      " 71.77777778 65.66666667 83.         81.11111111 88.11111111 72.88888889\n",
      " 74.         84.55555556 66.22222222 48.66666667 82.         40.77777778\n",
      " 61.33333333 59.77777778 37.11111111 70.         50.44444444 66.66666667\n",
      " 78.77777778 73.33333333 81.77777778 52.88888889 70.         50.88888889\n",
      " 73.55555556 70.77777778 69.         64.88888889 63.33333333 28.77777778\n",
      " 60.11111111 71.55555556 56.88888889 71.66666667 78.22222222 64.77777778\n",
      " 76.22222222 92.         92.77777778 80.22222222 94.55555556 72.88888889\n",
      " 77.66666667 66.44444444 58.11111111 64.55555556 78.         74.11111111\n",
      " 75.55555556 85.77777778 63.88888889 50.44444444 87.77777778 77.44444444\n",
      " 53.22222222 71.33333333 71.33333333 80.88888889 66.22222222 55.66666667\n",
      " 33.22222222 39.88888889 60.         45.44444444 82.33333333 62.66666667\n",
      " 75.11111111 58.11111111 55.         55.33333333 77.22222222 98.66666667\n",
      " 65.33333333 69.55555556 84.77777778 88.77777778 51.11111111 73.66666667\n",
      " 81.88888889 65.22222222] [91.66666666666667, 66.33333333333333, 71.0, 71.0, 50.666666666666664, 64.33333333333333, 54.666666666666664, 85.66666666666667, 70.0, 69.33333333333333, 79.66666666666667, 60.666666666666664, 82.33333333333333, 77.0, 50.0, 63.666666666666664, 83.0, 65.0, 70.0, 31.0, 79.66666666666667, 48.333333333333336, 9.0, 77.66666666666667, 59.0, 69.0, 74.66666666666667, 78.0, 55.666666666666664, 86.0, 72.0, 77.33333333333333, 74.33333333333333, 84.33333333333333, 84.0, 83.0, 80.33333333333333, 76.0, 91.33333333333333, 68.33333333333333, 83.66666666666667, 75.66666666666667, 85.66666666666667, 45.333333333333336, 79.33333333333333, 54.0, 73.33333333333333, 69.0, 68.33333333333333, 82.0, 53.666666666666664, 88.66666666666667, 60.0, 97.0, 66.33333333333333, 85.66666666666667, 40.0, 77.66666666666667, 47.666666666666664, 71.66666666666667, 97.66666666666667, 64.0, 65.0, 60.333333333333336, 69.66666666666667, 81.33333333333333, 69.33333333333333, 39.0, 48.333333333333336, 56.333333333333336, 79.33333333333333, 75.33333333333333, 70.33333333333333, 83.0, 89.66666666666667, 52.0, 64.33333333333333, 75.66666666666667, 76.0, 97.66666666666667, 78.0, 63.666666666666664, 65.66666666666667, 69.66666666666667, 87.0, 76.66666666666667, 86.33333333333333, 72.33333333333333, 51.0, 82.33333333333333, 81.0, 56.0, 75.66666666666667, 29.333333333333332, 74.0, 73.66666666666667, 76.66666666666667, 60.0, 83.66666666666667, 79.66666666666667, 49.0, 73.33333333333333, 39.666666666666664, 68.33333333333333, 82.33333333333333, 79.66666666666667, 66.0, 64.33333333333333, 70.33333333333333, 64.0, 62.333333333333336, 60.333333333333336, 53.333333333333336, 71.33333333333333, 60.333333333333336, 79.33333333333333, 91.66666666666667, 71.33333333333333, 70.66666666666667, 51.0, 73.33333333333333, 66.0, 84.0, 80.33333333333333, 87.33333333333333, 73.66666666666667, 75.0, 83.66666666666667, 67.66666666666667, 49.0, 83.0, 41.333333333333336, 61.0, 59.333333333333336, 38.333333333333336, 71.0, 50.333333333333336, 66.0, 78.33333333333333, 73.0, 81.33333333333333, 51.666666666666664, 71.0, 51.666666666666664, 72.66666666666667, 71.33333333333333, 67.0, 65.66666666666667, 64.0, 31.333333333333332, 61.333333333333336, 71.66666666666667, 56.666666666666664, 73.0, 76.66666666666667, 65.33333333333333, 78.66666666666667, 94.0, 93.33333333333333, 79.66666666666667, 95.66666666666667, 72.66666666666667, 79.0, 67.33333333333333, 57.333333333333336, 64.66666666666667, 78.0, 73.33333333333333, 75.66666666666667, 85.33333333333333, 64.66666666666667, 51.333333333333336, 88.33333333333333, 76.33333333333333, 53.666666666666664, 71.0, 73.0, 82.66666666666667, 67.66666666666667, 56.0, 34.666666666666664, 40.666666666666664, 59.0, 43.333333333333336, 83.0, 63.0, 75.33333333333333, 58.333333333333336, 56.0, 56.0, 77.66666666666667, 99.0, 64.0, 67.66666666666667, 86.33333333333333, 90.33333333333333, 51.333333333333336, 74.0, 81.66666666666667, 64.66666666666667]\n"
     ]
    }
   ],
   "source": [
    "x_test=strat_test_set.drop(\"average\",axis=1)\n",
    "x_test=strat_test_set.drop(\"math_score\",axis=1)\n",
    "x_test=strat_test_set.drop(\"writing_score\",axis=1)\n",
    "x_test=strat_test_set.drop(\"reading_score\",axis=1)\n",
    "y_test=strat_test_set[\"average\"].copy()\n",
    "x_test_prepared=my_pipeline.transform(x_test)\n",
    "final_predictions=model.predict(x_test_prepared)\n",
    "final_mse=mean_squared_error(y_test,final_predictions)\n",
    "final_rmse=np.sqrt(final_mse)\n",
    "print(final_predictions,list(y_test))\n"
   ]
  },
  {
   "cell_type": "code",
   "execution_count": 368,
   "metadata": {
    "colab": {
     "base_uri": "https://localhost:8080/",
     "height": 70
    },
    "colab_type": "code",
    "id": "4ZQLh2XAloIe",
    "outputId": "31950504-cb15-4fc5-b144-8cdef741e355"
   },
   "outputs": [
    {
     "name": "stdout",
     "output_type": "stream",
     "text": [
      "[1.186185920097285, 2.37237184019457, 3.558557760291855, 4.74474368038914, 5.930929600486426, 7.11711552058371, 8.303301440680995, 9.48948736077828, 10.675673280875566, 11.861859200972852, 13.048045121070135, 14.23423104116742, 15.420416961264706, 16.60660288136199, 17.792788801459277, 18.97897472155656, 20.165160641653845, 21.351346561751132, 22.537532481848416, 23.723718401945703, 24.909904322042987, 26.09609024214027, 27.282276162237558, 28.46846208233484, 29.654648002432126, 30.840833922529413, 32.0270198426267, 33.21320576272398, 34.39939168282127, 35.585577602918555, 36.771763523015835, 37.95794944311312, 39.14413536321041, 40.33032128330769, 41.51650720340498, 42.702693123502264, 43.888879043599545, 45.07506496369683, 46.26125088379412, 47.44743680389141, 48.63362272398869, 49.819808644085974, 51.00599456418326, 52.19218048428054, 53.37836640437783, 54.564552324475116, 55.750738244572396, 56.93692416466968, 58.12311008476697, 59.30929600486425, 60.49548192496154, 61.681667845058826, 62.867853765156106, 64.0540396852534, 65.24022560535067, 66.42641152544796, 67.61259744554525, 68.79878336564254, 69.98496928573982, 71.17115520583711, 72.35734112593438, 73.54352704603167, 74.72971296612896, 75.91589888622624, 77.10208480632353, 78.28827072642082, 79.4744566465181, 80.66064256661538, 81.84682848671267, 83.03301440680995, 84.21920032690724, 85.40538624700453, 86.59157216710182, 87.77775808719909, 88.96394400729638, 90.15012992739366, 91.33631584749095, 92.52250176758824, 93.70868768768553, 94.89487360778281, 96.08105952788009, 97.26724544797737, 98.45343136807466, 99.63961728817195, 100.82580320826924, 102.01198912836652, 103.1981750484638, 104.38436096856108, 105.57054688865837, 106.75673280875566, 107.94291872885294, 109.12910464895023, 110.3152905690475, 111.50147648914479, 112.68766240924208, 113.87384832933937, 115.06003424943665, 116.24622016953394, 117.43240608963123]\n",
      "1.186185920097285\n"
     ]
    }
   ],
   "source": [
    "\n",
    "final_rmse\n",
    "import pandas as pd\n",
    "\n",
    "my_list = list(range(1,100))\n",
    "my_new_list = []\n",
    "for i in my_list:\n",
    "    my_new_list.append(i * final_rmse)\n",
    "\n",
    "i = final_rmse\n",
    "print(my_new_list)\n",
    "print(final_rmse)\n"
   ]
  },
  {
   "cell_type": "code",
   "execution_count": 1,
   "metadata": {
    "colab": {
     "base_uri": "https://localhost:8080/",
     "height": 542
    },
    "colab_type": "code",
    "id": "OSAnxt-jlyhB",
    "outputId": "b36e8fa3-4a7e-4cbb-8258-ff1fae7586b1"
   },
   "outputs": [
    {
     "ename": "NameError",
     "evalue": "name 'final_predictions' is not defined",
     "output_type": "error",
     "traceback": [
      "\u001b[1;31m---------------------------------------------------------------------------\u001b[0m",
      "\u001b[1;31mNameError\u001b[0m                                 Traceback (most recent call last)",
      "\u001b[1;32m<ipython-input-1-39bada0f85a4>\u001b[0m in \u001b[0;36m<module>\u001b[1;34m\u001b[0m\n\u001b[0;32m      4\u001b[0m \u001b[0mx\u001b[0m \u001b[1;33m=\u001b[0m \u001b[0mnp\u001b[0m\u001b[1;33m.\u001b[0m\u001b[0marange\u001b[0m\u001b[1;33m(\u001b[0m\u001b[1;36m100\u001b[0m\u001b[1;33m)\u001b[0m\u001b[1;33m\u001b[0m\u001b[1;33m\u001b[0m\u001b[0m\n\u001b[0;32m      5\u001b[0m \u001b[1;33m\u001b[0m\u001b[0m\n\u001b[1;32m----> 6\u001b[1;33m \u001b[0mfig\u001b[0m \u001b[1;33m=\u001b[0m \u001b[0mgo\u001b[0m\u001b[1;33m.\u001b[0m\u001b[0mFigure\u001b[0m\u001b[1;33m(\u001b[0m\u001b[0mdata\u001b[0m\u001b[1;33m=\u001b[0m\u001b[0mgo\u001b[0m\u001b[1;33m.\u001b[0m\u001b[0mScatter\u001b[0m\u001b[1;33m(\u001b[0m\u001b[0mx\u001b[0m\u001b[1;33m=\u001b[0m\u001b[0mfinal_predictions\u001b[0m\u001b[1;33m,\u001b[0m \u001b[0my\u001b[0m\u001b[1;33m=\u001b[0m\u001b[0mlist\u001b[0m\u001b[1;33m(\u001b[0m\u001b[0my_test\u001b[0m\u001b[1;33m)\u001b[0m\u001b[1;33m,\u001b[0m \u001b[0mmode\u001b[0m\u001b[1;33m=\u001b[0m\u001b[1;34m'markers'\u001b[0m\u001b[1;33m)\u001b[0m\u001b[1;33m)\u001b[0m\u001b[1;33m\u001b[0m\u001b[1;33m\u001b[0m\u001b[0m\n\u001b[0m\u001b[0;32m      7\u001b[0m \u001b[1;33m\u001b[0m\u001b[0m\n\u001b[0;32m      8\u001b[0m fig.update_layout(\n",
      "\u001b[1;31mNameError\u001b[0m: name 'final_predictions' is not defined"
     ]
    }
   ],
   "source": [
    "import plotly.graph_objects as go\n",
    "import numpy as np\n",
    "\n",
    "x = np.arange(100)\n",
    "\n",
    "fig = go.Figure(data=go.Scatter(x=final_predictions, y=list(y_test), mode='markers'))\n",
    "\n",
    "fig.update_layout(\n",
    "    title=\"Final result\",\n",
    "    xaxis_title=\"Prediction by the machine\",\n",
    "    yaxis_title=\"Actual Result\",\n",
    "    font=dict(\n",
    "        family=\"Courier New, monospace\",\n",
    "        size=18,\n",
    "        color=\"#7f7f7f\"\n",
    "    )\n",
    ")\n",
    "fig.show()\n",
    "\n",
    "plt.show()"
   ]
  },
  {
   "cell_type": "code",
   "execution_count": 0,
   "metadata": {
    "colab": {},
    "colab_type": "code",
    "id": "eW_COyQtwPrE"
   },
   "outputs": [],
   "source": []
  },
  {
   "cell_type": "code",
   "execution_count": 0,
   "metadata": {
    "colab": {},
    "colab_type": "code",
    "id": "VSMjMR5QwRIY"
   },
   "outputs": [],
   "source": []
  }
 ],
 "metadata": {
  "colab": {
   "collapsed_sections": [],
   "name": "student's_average (1).ipynb",
   "provenance": []
  },
  "kernelspec": {
   "display_name": "Python 3",
   "language": "python",
   "name": "python3"
  },
  "language_info": {
   "codemirror_mode": {
    "name": "ipython",
    "version": 3
   },
   "file_extension": ".py",
   "mimetype": "text/x-python",
   "name": "python",
   "nbconvert_exporter": "python",
   "pygments_lexer": "ipython3",
   "version": "3.7.4"
  }
 },
 "nbformat": 4,
 "nbformat_minor": 1
}
