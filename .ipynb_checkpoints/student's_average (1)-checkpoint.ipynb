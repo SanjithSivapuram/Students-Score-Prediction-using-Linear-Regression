{
 "cells": [
  {
   "cell_type": "code",
   "execution_count": 1,
   "metadata": {
    "colab": {
     "base_uri": "https://localhost:8080/",
     "height": 221
    },
    "colab_type": "code",
    "id": "ni_587_-UqL5",
    "outputId": "37957d91-619a-4fb8-8086-894ef3f388b1"
   },
   "outputs": [
    {
     "data": {
      "text/html": [
       "<div>\n",
       "<style scoped>\n",
       "    .dataframe tbody tr th:only-of-type {\n",
       "        vertical-align: middle;\n",
       "    }\n",
       "\n",
       "    .dataframe tbody tr th {\n",
       "        vertical-align: top;\n",
       "    }\n",
       "\n",
       "    .dataframe thead th {\n",
       "        text-align: right;\n",
       "    }\n",
       "</style>\n",
       "<table border=\"1\" class=\"dataframe\">\n",
       "  <thead>\n",
       "    <tr style=\"text-align: right;\">\n",
       "      <th></th>\n",
       "      <th>gender</th>\n",
       "      <th>race/ethnicity</th>\n",
       "      <th>parental level of education</th>\n",
       "      <th>lunch</th>\n",
       "      <th>test preparation course</th>\n",
       "      <th>math score</th>\n",
       "      <th>reading score</th>\n",
       "      <th>writing score</th>\n",
       "    </tr>\n",
       "  </thead>\n",
       "  <tbody>\n",
       "    <tr>\n",
       "      <th>0</th>\n",
       "      <td>female</td>\n",
       "      <td>group B</td>\n",
       "      <td>bachelor's degree</td>\n",
       "      <td>standard</td>\n",
       "      <td>none</td>\n",
       "      <td>72</td>\n",
       "      <td>72</td>\n",
       "      <td>74</td>\n",
       "    </tr>\n",
       "    <tr>\n",
       "      <th>1</th>\n",
       "      <td>female</td>\n",
       "      <td>group C</td>\n",
       "      <td>some college</td>\n",
       "      <td>standard</td>\n",
       "      <td>completed</td>\n",
       "      <td>69</td>\n",
       "      <td>90</td>\n",
       "      <td>88</td>\n",
       "    </tr>\n",
       "    <tr>\n",
       "      <th>2</th>\n",
       "      <td>female</td>\n",
       "      <td>group B</td>\n",
       "      <td>master's degree</td>\n",
       "      <td>standard</td>\n",
       "      <td>none</td>\n",
       "      <td>90</td>\n",
       "      <td>95</td>\n",
       "      <td>93</td>\n",
       "    </tr>\n",
       "    <tr>\n",
       "      <th>3</th>\n",
       "      <td>male</td>\n",
       "      <td>group A</td>\n",
       "      <td>associate's degree</td>\n",
       "      <td>free/reduced</td>\n",
       "      <td>none</td>\n",
       "      <td>47</td>\n",
       "      <td>57</td>\n",
       "      <td>44</td>\n",
       "    </tr>\n",
       "    <tr>\n",
       "      <th>4</th>\n",
       "      <td>male</td>\n",
       "      <td>group C</td>\n",
       "      <td>some college</td>\n",
       "      <td>standard</td>\n",
       "      <td>none</td>\n",
       "      <td>76</td>\n",
       "      <td>78</td>\n",
       "      <td>75</td>\n",
       "    </tr>\n",
       "  </tbody>\n",
       "</table>\n",
       "</div>"
      ],
      "text/plain": [
       "   gender race/ethnicity  ... reading score writing score\n",
       "0  female        group B  ...            72            74\n",
       "1  female        group C  ...            90            88\n",
       "2  female        group B  ...            95            93\n",
       "3    male        group A  ...            57            44\n",
       "4    male        group C  ...            78            75\n",
       "\n",
       "[5 rows x 8 columns]"
      ]
     },
     "execution_count": 1,
     "metadata": {
      "tags": []
     },
     "output_type": "execute_result"
    }
   ],
   "source": [
    "import pandas as pd\n",
    "students=pd.read_csv(\"students.csv\")\n",
    "students.head()"
   ]
  },
  {
   "cell_type": "code",
   "execution_count": 3,
   "metadata": {
    "colab": {
     "base_uri": "https://localhost:8080/",
     "height": 238
    },
    "colab_type": "code",
    "id": "S-kjY6DEVN4o",
    "outputId": "80c77c37-c923-4eb3-a864-d81efa1d2b07"
   },
   "outputs": [
    {
     "data": {
      "text/html": [
       "<div>\n",
       "<style scoped>\n",
       "    .dataframe tbody tr th:only-of-type {\n",
       "        vertical-align: middle;\n",
       "    }\n",
       "\n",
       "    .dataframe tbody tr th {\n",
       "        vertical-align: top;\n",
       "    }\n",
       "\n",
       "    .dataframe thead th {\n",
       "        text-align: right;\n",
       "    }\n",
       "</style>\n",
       "<table border=\"1\" class=\"dataframe\">\n",
       "  <thead>\n",
       "    <tr style=\"text-align: right;\">\n",
       "      <th></th>\n",
       "      <th>gender</th>\n",
       "      <th>race/ethnicity</th>\n",
       "      <th>parental level of education</th>\n",
       "      <th>lunch</th>\n",
       "      <th>test preparation course</th>\n",
       "      <th>math score</th>\n",
       "      <th>reading score</th>\n",
       "      <th>writing score</th>\n",
       "      <th>total</th>\n",
       "      <th>average</th>\n",
       "    </tr>\n",
       "  </thead>\n",
       "  <tbody>\n",
       "    <tr>\n",
       "      <th>0</th>\n",
       "      <td>female</td>\n",
       "      <td>group B</td>\n",
       "      <td>bachelor's degree</td>\n",
       "      <td>standard</td>\n",
       "      <td>none</td>\n",
       "      <td>72</td>\n",
       "      <td>72</td>\n",
       "      <td>74</td>\n",
       "      <td>218</td>\n",
       "      <td>72.666667</td>\n",
       "    </tr>\n",
       "    <tr>\n",
       "      <th>1</th>\n",
       "      <td>female</td>\n",
       "      <td>group C</td>\n",
       "      <td>some college</td>\n",
       "      <td>standard</td>\n",
       "      <td>completed</td>\n",
       "      <td>69</td>\n",
       "      <td>90</td>\n",
       "      <td>88</td>\n",
       "      <td>247</td>\n",
       "      <td>82.333333</td>\n",
       "    </tr>\n",
       "    <tr>\n",
       "      <th>2</th>\n",
       "      <td>female</td>\n",
       "      <td>group B</td>\n",
       "      <td>master's degree</td>\n",
       "      <td>standard</td>\n",
       "      <td>none</td>\n",
       "      <td>90</td>\n",
       "      <td>95</td>\n",
       "      <td>93</td>\n",
       "      <td>278</td>\n",
       "      <td>92.666667</td>\n",
       "    </tr>\n",
       "    <tr>\n",
       "      <th>3</th>\n",
       "      <td>male</td>\n",
       "      <td>group A</td>\n",
       "      <td>associate's degree</td>\n",
       "      <td>free/reduced</td>\n",
       "      <td>none</td>\n",
       "      <td>47</td>\n",
       "      <td>57</td>\n",
       "      <td>44</td>\n",
       "      <td>148</td>\n",
       "      <td>49.333333</td>\n",
       "    </tr>\n",
       "    <tr>\n",
       "      <th>4</th>\n",
       "      <td>male</td>\n",
       "      <td>group C</td>\n",
       "      <td>some college</td>\n",
       "      <td>standard</td>\n",
       "      <td>none</td>\n",
       "      <td>76</td>\n",
       "      <td>78</td>\n",
       "      <td>75</td>\n",
       "      <td>229</td>\n",
       "      <td>76.333333</td>\n",
       "    </tr>\n",
       "  </tbody>\n",
       "</table>\n",
       "</div>"
      ],
      "text/plain": [
       "   gender race/ethnicity  ... total    average\n",
       "0  female        group B  ...   218  72.666667\n",
       "1  female        group C  ...   247  82.333333\n",
       "2  female        group B  ...   278  92.666667\n",
       "3    male        group A  ...   148  49.333333\n",
       "4    male        group C  ...   229  76.333333\n",
       "\n",
       "[5 rows x 10 columns]"
      ]
     },
     "execution_count": 3,
     "metadata": {
      "tags": []
     },
     "output_type": "execute_result"
    }
   ],
   "source": [
    "students['total'] = students['math score'] + students['reading score'] + students['writing score']\n",
    "students['average'] = students['total'] / 3\n",
    "students.head()"
   ]
  },
  {
   "cell_type": "code",
   "execution_count": 14,
   "metadata": {
    "colab": {
     "base_uri": "https://localhost:8080/",
     "height": 204
    },
    "colab_type": "code",
    "id": "9PYeZOaGV3sM",
    "outputId": "22d59be8-638b-4c05-9bc1-5716d9ac72d7"
   },
   "outputs": [
    {
     "data": {
      "text/html": [
       "<div>\n",
       "<style scoped>\n",
       "    .dataframe tbody tr th:only-of-type {\n",
       "        vertical-align: middle;\n",
       "    }\n",
       "\n",
       "    .dataframe tbody tr th {\n",
       "        vertical-align: top;\n",
       "    }\n",
       "\n",
       "    .dataframe thead th {\n",
       "        text-align: right;\n",
       "    }\n",
       "</style>\n",
       "<table border=\"1\" class=\"dataframe\">\n",
       "  <thead>\n",
       "    <tr style=\"text-align: right;\">\n",
       "      <th></th>\n",
       "      <th>gender</th>\n",
       "      <th>race</th>\n",
       "      <th>parental_level_of_education</th>\n",
       "      <th>lunch</th>\n",
       "      <th>test_preparation_course</th>\n",
       "      <th>total</th>\n",
       "      <th>average</th>\n",
       "    </tr>\n",
       "  </thead>\n",
       "  <tbody>\n",
       "    <tr>\n",
       "      <th>0</th>\n",
       "      <td>female</td>\n",
       "      <td>group B</td>\n",
       "      <td>bachelor's degree</td>\n",
       "      <td>standard</td>\n",
       "      <td>none</td>\n",
       "      <td>218</td>\n",
       "      <td>72.666667</td>\n",
       "    </tr>\n",
       "    <tr>\n",
       "      <th>1</th>\n",
       "      <td>female</td>\n",
       "      <td>group C</td>\n",
       "      <td>some college</td>\n",
       "      <td>standard</td>\n",
       "      <td>completed</td>\n",
       "      <td>247</td>\n",
       "      <td>82.333333</td>\n",
       "    </tr>\n",
       "    <tr>\n",
       "      <th>2</th>\n",
       "      <td>female</td>\n",
       "      <td>group B</td>\n",
       "      <td>master's degree</td>\n",
       "      <td>standard</td>\n",
       "      <td>none</td>\n",
       "      <td>278</td>\n",
       "      <td>92.666667</td>\n",
       "    </tr>\n",
       "    <tr>\n",
       "      <th>3</th>\n",
       "      <td>male</td>\n",
       "      <td>group A</td>\n",
       "      <td>associate's degree</td>\n",
       "      <td>free/reduced</td>\n",
       "      <td>none</td>\n",
       "      <td>148</td>\n",
       "      <td>49.333333</td>\n",
       "    </tr>\n",
       "    <tr>\n",
       "      <th>4</th>\n",
       "      <td>male</td>\n",
       "      <td>group C</td>\n",
       "      <td>some college</td>\n",
       "      <td>standard</td>\n",
       "      <td>none</td>\n",
       "      <td>229</td>\n",
       "      <td>76.333333</td>\n",
       "    </tr>\n",
       "  </tbody>\n",
       "</table>\n",
       "</div>"
      ],
      "text/plain": [
       "   gender     race  ... total    average\n",
       "0  female  group B  ...   218  72.666667\n",
       "1  female  group C  ...   247  82.333333\n",
       "2  female  group B  ...   278  92.666667\n",
       "3    male  group A  ...   148  49.333333\n",
       "4    male  group C  ...   229  76.333333\n",
       "\n",
       "[5 rows x 7 columns]"
      ]
     },
     "execution_count": 14,
     "metadata": {
      "tags": []
     },
     "output_type": "execute_result"
    }
   ],
   "source": [
    "\n",
    "students.head()"
   ]
  },
  {
   "cell_type": "code",
   "execution_count": 15,
   "metadata": {
    "colab": {
     "base_uri": "https://localhost:8080/",
     "height": 204
    },
    "colab_type": "code",
    "id": "mDFNWXK7WmrH",
    "outputId": "d58a0a82-4957-40b5-aaa6-521faea4fc46"
   },
   "outputs": [
    {
     "data": {
      "text/html": [
       "<div>\n",
       "<style scoped>\n",
       "    .dataframe tbody tr th:only-of-type {\n",
       "        vertical-align: middle;\n",
       "    }\n",
       "\n",
       "    .dataframe tbody tr th {\n",
       "        vertical-align: top;\n",
       "    }\n",
       "\n",
       "    .dataframe thead th {\n",
       "        text-align: right;\n",
       "    }\n",
       "</style>\n",
       "<table border=\"1\" class=\"dataframe\">\n",
       "  <thead>\n",
       "    <tr style=\"text-align: right;\">\n",
       "      <th></th>\n",
       "      <th>gender</th>\n",
       "      <th>race</th>\n",
       "      <th>parental_level_of_education</th>\n",
       "      <th>lunch</th>\n",
       "      <th>test_preparation_course</th>\n",
       "      <th>average</th>\n",
       "    </tr>\n",
       "  </thead>\n",
       "  <tbody>\n",
       "    <tr>\n",
       "      <th>0</th>\n",
       "      <td>female</td>\n",
       "      <td>group B</td>\n",
       "      <td>bachelor's degree</td>\n",
       "      <td>standard</td>\n",
       "      <td>none</td>\n",
       "      <td>72.666667</td>\n",
       "    </tr>\n",
       "    <tr>\n",
       "      <th>1</th>\n",
       "      <td>female</td>\n",
       "      <td>group C</td>\n",
       "      <td>some college</td>\n",
       "      <td>standard</td>\n",
       "      <td>completed</td>\n",
       "      <td>82.333333</td>\n",
       "    </tr>\n",
       "    <tr>\n",
       "      <th>2</th>\n",
       "      <td>female</td>\n",
       "      <td>group B</td>\n",
       "      <td>master's degree</td>\n",
       "      <td>standard</td>\n",
       "      <td>none</td>\n",
       "      <td>92.666667</td>\n",
       "    </tr>\n",
       "    <tr>\n",
       "      <th>3</th>\n",
       "      <td>male</td>\n",
       "      <td>group A</td>\n",
       "      <td>associate's degree</td>\n",
       "      <td>free/reduced</td>\n",
       "      <td>none</td>\n",
       "      <td>49.333333</td>\n",
       "    </tr>\n",
       "    <tr>\n",
       "      <th>4</th>\n",
       "      <td>male</td>\n",
       "      <td>group C</td>\n",
       "      <td>some college</td>\n",
       "      <td>standard</td>\n",
       "      <td>none</td>\n",
       "      <td>76.333333</td>\n",
       "    </tr>\n",
       "  </tbody>\n",
       "</table>\n",
       "</div>"
      ],
      "text/plain": [
       "   gender     race  ... test_preparation_course    average\n",
       "0  female  group B  ...                    none  72.666667\n",
       "1  female  group C  ...               completed  82.333333\n",
       "2  female  group B  ...                    none  92.666667\n",
       "3    male  group A  ...                    none  49.333333\n",
       "4    male  group C  ...                    none  76.333333\n",
       "\n",
       "[5 rows x 6 columns]"
      ]
     },
     "execution_count": 15,
     "metadata": {
      "tags": []
     },
     "output_type": "execute_result"
    }
   ],
   "source": [
    "students=students.drop(\"total\",axis=1)\n",
    "students.head()\n"
   ]
  },
  {
   "cell_type": "code",
   "execution_count": 16,
   "metadata": {
    "colab": {
     "base_uri": "https://localhost:8080/",
     "height": 238
    },
    "colab_type": "code",
    "id": "CnCeWSQ6XI97",
    "outputId": "d02e5dde-3055-4a86-eeab-907bab611c2e"
   },
   "outputs": [
    {
     "name": "stdout",
     "output_type": "stream",
     "text": [
      "<class 'pandas.core.frame.DataFrame'>\n",
      "RangeIndex: 1000 entries, 0 to 999\n",
      "Data columns (total 6 columns):\n",
      " #   Column                       Non-Null Count  Dtype  \n",
      "---  ------                       --------------  -----  \n",
      " 0   gender                       1000 non-null   object \n",
      " 1   race                         1000 non-null   object \n",
      " 2   parental_level_of_education  1000 non-null   object \n",
      " 3   lunch                        1000 non-null   object \n",
      " 4   test_preparation_course      1000 non-null   object \n",
      " 5   average                      1000 non-null   float64\n",
      "dtypes: float64(1), object(5)\n",
      "memory usage: 47.0+ KB\n"
     ]
    }
   ],
   "source": [
    "students.info()"
   ]
  },
  {
   "cell_type": "code",
   "execution_count": 18,
   "metadata": {
    "colab": {
     "base_uri": "https://localhost:8080/",
     "height": 204
    },
    "colab_type": "code",
    "id": "SrYVWeASZDkM",
    "outputId": "f260342a-3daf-416c-f617-03edb09d2f49"
   },
   "outputs": [
    {
     "data": {
      "text/html": [
       "<div>\n",
       "<style scoped>\n",
       "    .dataframe tbody tr th:only-of-type {\n",
       "        vertical-align: middle;\n",
       "    }\n",
       "\n",
       "    .dataframe tbody tr th {\n",
       "        vertical-align: top;\n",
       "    }\n",
       "\n",
       "    .dataframe thead th {\n",
       "        text-align: right;\n",
       "    }\n",
       "</style>\n",
       "<table border=\"1\" class=\"dataframe\">\n",
       "  <thead>\n",
       "    <tr style=\"text-align: right;\">\n",
       "      <th></th>\n",
       "      <th>gender</th>\n",
       "      <th>race</th>\n",
       "      <th>parental_level_of_education</th>\n",
       "      <th>lunch</th>\n",
       "      <th>test_preparation_course</th>\n",
       "      <th>average</th>\n",
       "    </tr>\n",
       "  </thead>\n",
       "  <tbody>\n",
       "    <tr>\n",
       "      <th>0</th>\n",
       "      <td>0</td>\n",
       "      <td>1</td>\n",
       "      <td>1</td>\n",
       "      <td>1</td>\n",
       "      <td>1</td>\n",
       "      <td>72.666667</td>\n",
       "    </tr>\n",
       "    <tr>\n",
       "      <th>1</th>\n",
       "      <td>0</td>\n",
       "      <td>2</td>\n",
       "      <td>4</td>\n",
       "      <td>1</td>\n",
       "      <td>0</td>\n",
       "      <td>82.333333</td>\n",
       "    </tr>\n",
       "    <tr>\n",
       "      <th>2</th>\n",
       "      <td>0</td>\n",
       "      <td>1</td>\n",
       "      <td>3</td>\n",
       "      <td>1</td>\n",
       "      <td>1</td>\n",
       "      <td>92.666667</td>\n",
       "    </tr>\n",
       "    <tr>\n",
       "      <th>3</th>\n",
       "      <td>1</td>\n",
       "      <td>0</td>\n",
       "      <td>0</td>\n",
       "      <td>0</td>\n",
       "      <td>1</td>\n",
       "      <td>49.333333</td>\n",
       "    </tr>\n",
       "    <tr>\n",
       "      <th>4</th>\n",
       "      <td>1</td>\n",
       "      <td>2</td>\n",
       "      <td>4</td>\n",
       "      <td>1</td>\n",
       "      <td>1</td>\n",
       "      <td>76.333333</td>\n",
       "    </tr>\n",
       "  </tbody>\n",
       "</table>\n",
       "</div>"
      ],
      "text/plain": [
       "   gender  race  ...  test_preparation_course    average\n",
       "0       0     1  ...                        1  72.666667\n",
       "1       0     2  ...                        0  82.333333\n",
       "2       0     1  ...                        1  92.666667\n",
       "3       1     0  ...                        1  49.333333\n",
       "4       1     2  ...                        1  76.333333\n",
       "\n",
       "[5 rows x 6 columns]"
      ]
     },
     "execution_count": 18,
     "metadata": {
      "tags": []
     },
     "output_type": "execute_result"
    }
   ],
   "source": [
    " from sklearn.preprocessing import LabelEncoder\n",
    " le=LabelEncoder()\n",
    " students['gender']=le.fit_transform(students.gender)\n",
    " students['race']=le.fit_transform(students.race)\n",
    " students['parental_level_of_education']=le.fit_transform(students.parental_level_of_education)\n",
    " students['lunch']=le.fit_transform(students.lunch)\n",
    " students['test_preparation_course']=le.fit_transform(students.test_preparation_course)\n",
    " students.head()\n"
   ]
  },
  {
   "cell_type": "code",
   "execution_count": 20,
   "metadata": {
    "colab": {
     "base_uri": "https://localhost:8080/",
     "height": 297
    },
    "colab_type": "code",
    "id": "wuMo42YtZtvz",
    "outputId": "c51b55ca-4393-46b2-cca3-9f1fb8336025"
   },
   "outputs": [
    {
     "data": {
      "text/html": [
       "<div>\n",
       "<style scoped>\n",
       "    .dataframe tbody tr th:only-of-type {\n",
       "        vertical-align: middle;\n",
       "    }\n",
       "\n",
       "    .dataframe tbody tr th {\n",
       "        vertical-align: top;\n",
       "    }\n",
       "\n",
       "    .dataframe thead th {\n",
       "        text-align: right;\n",
       "    }\n",
       "</style>\n",
       "<table border=\"1\" class=\"dataframe\">\n",
       "  <thead>\n",
       "    <tr style=\"text-align: right;\">\n",
       "      <th></th>\n",
       "      <th>gender</th>\n",
       "      <th>race</th>\n",
       "      <th>parental_level_of_education</th>\n",
       "      <th>lunch</th>\n",
       "      <th>test_preparation_course</th>\n",
       "      <th>average</th>\n",
       "    </tr>\n",
       "  </thead>\n",
       "  <tbody>\n",
       "    <tr>\n",
       "      <th>count</th>\n",
       "      <td>1000.000000</td>\n",
       "      <td>1000.000000</td>\n",
       "      <td>1000.000000</td>\n",
       "      <td>1000.000000</td>\n",
       "      <td>1000.000000</td>\n",
       "      <td>1000.000000</td>\n",
       "    </tr>\n",
       "    <tr>\n",
       "      <th>mean</th>\n",
       "      <td>0.482000</td>\n",
       "      <td>2.174000</td>\n",
       "      <td>2.486000</td>\n",
       "      <td>0.645000</td>\n",
       "      <td>0.642000</td>\n",
       "      <td>67.770667</td>\n",
       "    </tr>\n",
       "    <tr>\n",
       "      <th>std</th>\n",
       "      <td>0.499926</td>\n",
       "      <td>1.157179</td>\n",
       "      <td>1.829522</td>\n",
       "      <td>0.478753</td>\n",
       "      <td>0.479652</td>\n",
       "      <td>14.257326</td>\n",
       "    </tr>\n",
       "    <tr>\n",
       "      <th>min</th>\n",
       "      <td>0.000000</td>\n",
       "      <td>0.000000</td>\n",
       "      <td>0.000000</td>\n",
       "      <td>0.000000</td>\n",
       "      <td>0.000000</td>\n",
       "      <td>9.000000</td>\n",
       "    </tr>\n",
       "    <tr>\n",
       "      <th>25%</th>\n",
       "      <td>0.000000</td>\n",
       "      <td>1.000000</td>\n",
       "      <td>1.000000</td>\n",
       "      <td>0.000000</td>\n",
       "      <td>0.000000</td>\n",
       "      <td>58.333333</td>\n",
       "    </tr>\n",
       "    <tr>\n",
       "      <th>50%</th>\n",
       "      <td>0.000000</td>\n",
       "      <td>2.000000</td>\n",
       "      <td>2.000000</td>\n",
       "      <td>1.000000</td>\n",
       "      <td>1.000000</td>\n",
       "      <td>68.333333</td>\n",
       "    </tr>\n",
       "    <tr>\n",
       "      <th>75%</th>\n",
       "      <td>1.000000</td>\n",
       "      <td>3.000000</td>\n",
       "      <td>4.000000</td>\n",
       "      <td>1.000000</td>\n",
       "      <td>1.000000</td>\n",
       "      <td>77.666667</td>\n",
       "    </tr>\n",
       "    <tr>\n",
       "      <th>max</th>\n",
       "      <td>1.000000</td>\n",
       "      <td>4.000000</td>\n",
       "      <td>5.000000</td>\n",
       "      <td>1.000000</td>\n",
       "      <td>1.000000</td>\n",
       "      <td>100.000000</td>\n",
       "    </tr>\n",
       "  </tbody>\n",
       "</table>\n",
       "</div>"
      ],
      "text/plain": [
       "            gender         race  ...  test_preparation_course      average\n",
       "count  1000.000000  1000.000000  ...              1000.000000  1000.000000\n",
       "mean      0.482000     2.174000  ...                 0.642000    67.770667\n",
       "std       0.499926     1.157179  ...                 0.479652    14.257326\n",
       "min       0.000000     0.000000  ...                 0.000000     9.000000\n",
       "25%       0.000000     1.000000  ...                 0.000000    58.333333\n",
       "50%       0.000000     2.000000  ...                 1.000000    68.333333\n",
       "75%       1.000000     3.000000  ...                 1.000000    77.666667\n",
       "max       1.000000     4.000000  ...                 1.000000   100.000000\n",
       "\n",
       "[8 rows x 6 columns]"
      ]
     },
     "execution_count": 20,
     "metadata": {
      "tags": []
     },
     "output_type": "execute_result"
    }
   ],
   "source": [
    "students.describe()"
   ]
  },
  {
   "cell_type": "code",
   "execution_count": 22,
   "metadata": {
    "colab": {
     "base_uri": "https://localhost:8080/",
     "height": 839
    },
    "colab_type": "code",
    "id": "xJ4hx2_HZ8MM",
    "outputId": "e15a2233-1321-4920-ec74-ace3bd98f817"
   },
   "outputs": [
    {
     "data": {
      "text/plain": [
       "array([[<matplotlib.axes._subplots.AxesSubplot object at 0x7fc44ae43c50>,\n",
       "        <matplotlib.axes._subplots.AxesSubplot object at 0x7fc44ae18ef0>],\n",
       "       [<matplotlib.axes._subplots.AxesSubplot object at 0x7fc44addb198>,\n",
       "        <matplotlib.axes._subplots.AxesSubplot object at 0x7fc44ad8f400>],\n",
       "       [<matplotlib.axes._subplots.AxesSubplot object at 0x7fc44ad41668>,\n",
       "        <matplotlib.axes._subplots.AxesSubplot object at 0x7fc44acf48d0>]],\n",
       "      dtype=object)"
      ]
     },
     "execution_count": 22,
     "metadata": {
      "tags": []
     },
     "output_type": "execute_result"
    },
    {
     "data": {
      "image/png": "[encoded data removed]",
      "text/plain": [
       "<Figure size 1440x1080 with 6 Axes>"
      ]
     },
     "metadata": {
      "needs_background": "light",
      "tags": []
     },
     "output_type": "display_data"
    }
   ],
   "source": [
    "\n",
    "import matplotlib.pyplot as plt\n",
    "students.hist(bins=50,figsize=(20,15))"
   ]
  },
  {
   "cell_type": "code",
   "execution_count": 23,
   "metadata": {
    "colab": {
     "base_uri": "https://localhost:8080/",
     "height": 68
    },
    "colab_type": "code",
    "id": "MTYMv1WIaUIS",
    "outputId": "eee48b07-6ae7-4e21-d445-c5fa43a40f1e"
   },
   "outputs": [
    {
     "name": "stdout",
     "output_type": "stream",
     "text": [
      "Rows in train set:800\n",
      "Rows in Test set: 200\n",
      "\n"
     ]
    }
   ],
   "source": [
    "from sklearn.model_selection import train_test_split\n",
    "train_set,test_set=train_test_split(students,test_size=0.2,random_state=42)\n",
    "print(f\"Rows in train set:{len(train_set)}\\nRows in Test set: {len(test_set)}\\n\")"
   ]
  },
  {
   "cell_type": "code",
   "execution_count": 0,
   "metadata": {
    "colab": {},
    "colab_type": "code",
    "id": "an1Gi1LlcwGK"
   },
   "outputs": [],
   "source": [
    "from sklearn.model_selection import StratifiedShuffleSplit\n",
    "split=StratifiedShuffleSplit(n_splits=1,test_size=0.2,random_state=42)\n",
    "for train_index,test_index in split.split(students,students['lunch']):\n",
    "    strat_train_set=students.loc[train_index]\n",
    "    strat_test_set=students.loc[test_index]"
   ]
  },
  {
   "cell_type": "code",
   "execution_count": 30,
   "metadata": {
    "colab": {
     "base_uri": "https://localhost:8080/",
     "height": 68
    },
    "colab_type": "code",
    "id": "8Aob69TSfQ8D",
    "outputId": "a7f60e2b-5985-465a-ff89-4ecd96bcf93d"
   },
   "outputs": [
    {
     "data": {
      "text/plain": [
       "1    129\n",
       "0     71\n",
       "Name: lunch, dtype: int64"
      ]
     },
     "execution_count": 30,
     "metadata": {
      "tags": []
     },
     "output_type": "execute_result"
    }
   ],
   "source": [
    "strat_test_set['lunch'].value_counts()"
   ]
  },
  {
   "cell_type": "code",
   "execution_count": 31,
   "metadata": {
    "colab": {
     "base_uri": "https://localhost:8080/",
     "height": 68
    },
    "colab_type": "code",
    "id": "4PxTuNXPfbKX",
    "outputId": "68395be9-09e6-4fd2-8c9b-2c78235d2f36"
   },
   "outputs": [
    {
     "data": {
      "text/plain": [
       "1    516\n",
       "0    284\n",
       "Name: lunch, dtype: int64"
      ]
     },
     "execution_count": 31,
     "metadata": {
      "tags": []
     },
     "output_type": "execute_result"
    }
   ],
   "source": [
    "strat_train_set['lunch'].value_counts()"
   ]
  },
  {
   "cell_type": "code",
   "execution_count": 0,
   "metadata": {
    "colab": {},
    "colab_type": "code",
    "id": "WJF7roCcaj1P"
   },
   "outputs": [],
   "source": [
    "corr_matrix=students.corr()"
   ]
  },
  {
   "cell_type": "code",
   "execution_count": 25,
   "metadata": {
    "colab": {
     "base_uri": "https://localhost:8080/",
     "height": 136
    },
    "colab_type": "code",
    "id": "qDSdFMNpa6nF",
    "outputId": "f5be2c35-a7a7-469b-b6c6-c9703b3a9c94"
   },
   "outputs": [
    {
     "data": {
      "text/plain": [
       "average                        1.000000\n",
       "lunch                          0.290064\n",
       "race                           0.185168\n",
       "parental_level_of_education   -0.078883\n",
       "gender                        -0.130861\n",
       "test_preparation_course       -0.256710\n",
       "Name: average, dtype: float64"
      ]
     },
     "execution_count": 25,
     "metadata": {
      "tags": []
     },
     "output_type": "execute_result"
    }
   ],
   "source": [
    "\n",
    "corr_matrix['average'].sort_values(ascending=False)"
   ]
  },
  {
   "cell_type": "code",
   "execution_count": 27,
   "metadata": {
    "colab": {
     "base_uri": "https://localhost:8080/",
     "height": 1000
    },
    "colab_type": "code",
    "id": "oxJJTlyNbA6T",
    "outputId": "0f68c07c-42c1-498b-d56b-1bcfc91e655b"
   },
   "outputs": [
    {
     "data": {
      "text/plain": [
       "array([[<matplotlib.axes._subplots.AxesSubplot object at 0x7fc449cbc6d8>,\n",
       "        <matplotlib.axes._subplots.AxesSubplot object at 0x7fc449cd9978>,\n",
       "        <matplotlib.axes._subplots.AxesSubplot object at 0x7fc449c85ba8>,\n",
       "        <matplotlib.axes._subplots.AxesSubplot object at 0x7fc449c35e10>,\n",
       "        <matplotlib.axes._subplots.AxesSubplot object at 0x7fc449bf10b8>,\n",
       "        <matplotlib.axes._subplots.AxesSubplot object at 0x7fc449c21320>],\n",
       "       [<matplotlib.axes._subplots.AxesSubplot object at 0x7fc449bd1588>,\n",
       "        <matplotlib.axes._subplots.AxesSubplot object at 0x7fc449b837b8>,\n",
       "        <matplotlib.axes._subplots.AxesSubplot object at 0x7fc449b83828>,\n",
       "        <matplotlib.axes._subplots.AxesSubplot object at 0x7fc449ae3cc0>,\n",
       "        <matplotlib.axes._subplots.AxesSubplot object at 0x7fc449aa3048>,\n",
       "        <matplotlib.axes._subplots.AxesSubplot object at 0x7fc449ad4400>],\n",
       "       [<matplotlib.axes._subplots.AxesSubplot object at 0x7fc449a84780>,\n",
       "        <matplotlib.axes._subplots.AxesSubplot object at 0x7fc449a37b00>,\n",
       "        <matplotlib.axes._subplots.AxesSubplot object at 0x7fc4499e8e80>,\n",
       "        <matplotlib.axes._subplots.AxesSubplot object at 0x7fc4499a9240>,\n",
       "        <matplotlib.axes._subplots.AxesSubplot object at 0x7fc4499da5c0>,\n",
       "        <matplotlib.axes._subplots.AxesSubplot object at 0x7fc44998d940>],\n",
       "       [<matplotlib.axes._subplots.AxesSubplot object at 0x7fc44993ecc0>,\n",
       "        <matplotlib.axes._subplots.AxesSubplot object at 0x7fc4498fd080>,\n",
       "        <matplotlib.axes._subplots.AxesSubplot object at 0x7fc4498ae400>,\n",
       "        <matplotlib.axes._subplots.AxesSubplot object at 0x7fc4498e1780>,\n",
       "        <matplotlib.axes._subplots.AxesSubplot object at 0x7fc449893b00>,\n",
       "        <matplotlib.axes._subplots.AxesSubplot object at 0x7fc449845e80>],\n",
       "       [<matplotlib.axes._subplots.AxesSubplot object at 0x7fc449804240>,\n",
       "        <matplotlib.axes._subplots.AxesSubplot object at 0x7fc44addbb00>,\n",
       "        <matplotlib.axes._subplots.AxesSubplot object at 0x7fc44ab8bf98>,\n",
       "        <matplotlib.axes._subplots.AxesSubplot object at 0x7fc44a998898>,\n",
       "        <matplotlib.axes._subplots.AxesSubplot object at 0x7fc449cd9358>,\n",
       "        <matplotlib.axes._subplots.AxesSubplot object at 0x7fc449b40780>],\n",
       "       [<matplotlib.axes._subplots.AxesSubplot object at 0x7fc44971bba8>,\n",
       "        <matplotlib.axes._subplots.AxesSubplot object at 0x7fc4496d0e10>,\n",
       "        <matplotlib.axes._subplots.AxesSubplot object at 0x7fc44968f0b8>,\n",
       "        <matplotlib.axes._subplots.AxesSubplot object at 0x7fc449644320>,\n",
       "        <matplotlib.axes._subplots.AxesSubplot object at 0x7fc4495f7588>,\n",
       "        <matplotlib.axes._subplots.AxesSubplot object at 0x7fc4495aa7f0>]],\n",
       "      dtype=object)"
      ]
     },
     "execution_count": 27,
     "metadata": {
      "tags": []
     },
     "output_type": "execute_result"
    },
    {
     "data": {
      "image/png": "[encoded data removed]",
      "text/plain": [
       "<Figure size 864x576 with 36 Axes>"
      ]
     },
     "metadata": {
      "needs_background": "light",
      "tags": []
     },
     "output_type": "display_data"
    }
   ],
   "source": [
    "from pandas.plotting import scatter_matrix\n",
    "attributes=[\"average\",\"gender\",\"race\",\"parental_level_of_education\",\"lunch\",\"test_preparation_course\"]\n",
    "scatter_matrix(students[attributes],figsize=(12,8))"
   ]
  },
  {
   "cell_type": "code",
   "execution_count": 0,
   "metadata": {
    "colab": {},
    "colab_type": "code",
    "id": "6-kDlZ2ebZtH"
   },
   "outputs": [],
   "source": [
    "students=strat_train_set.drop(\"average\",axis=1)\n",
    "students_lables=strat_train_set[\"average\"].copy()"
   ]
  },
  {
   "cell_type": "code",
   "execution_count": 34,
   "metadata": {
    "colab": {
     "base_uri": "https://localhost:8080/",
     "height": 297
    },
    "colab_type": "code",
    "id": "GwzlyBbTf3tS",
    "outputId": "e33f2ee3-f995-487d-d61e-c77ad0b517da"
   },
   "outputs": [
    {
     "data": {
      "text/html": [
       "<div>\n",
       "<style scoped>\n",
       "    .dataframe tbody tr th:only-of-type {\n",
       "        vertical-align: middle;\n",
       "    }\n",
       "\n",
       "    .dataframe tbody tr th {\n",
       "        vertical-align: top;\n",
       "    }\n",
       "\n",
       "    .dataframe thead th {\n",
       "        text-align: right;\n",
       "    }\n",
       "</style>\n",
       "<table border=\"1\" class=\"dataframe\">\n",
       "  <thead>\n",
       "    <tr style=\"text-align: right;\">\n",
       "      <th></th>\n",
       "      <th>gender</th>\n",
       "      <th>race</th>\n",
       "      <th>parental_level_of_education</th>\n",
       "      <th>lunch</th>\n",
       "      <th>test_preparation_course</th>\n",
       "    </tr>\n",
       "  </thead>\n",
       "  <tbody>\n",
       "    <tr>\n",
       "      <th>count</th>\n",
       "      <td>800.000000</td>\n",
       "      <td>800.0000</td>\n",
       "      <td>800.000000</td>\n",
       "      <td>800.000000</td>\n",
       "      <td>800.000000</td>\n",
       "    </tr>\n",
       "    <tr>\n",
       "      <th>mean</th>\n",
       "      <td>0.473750</td>\n",
       "      <td>2.1775</td>\n",
       "      <td>2.497500</td>\n",
       "      <td>0.645000</td>\n",
       "      <td>0.638750</td>\n",
       "    </tr>\n",
       "    <tr>\n",
       "      <th>std</th>\n",
       "      <td>0.499623</td>\n",
       "      <td>1.1652</td>\n",
       "      <td>1.831444</td>\n",
       "      <td>0.478813</td>\n",
       "      <td>0.480663</td>\n",
       "    </tr>\n",
       "    <tr>\n",
       "      <th>min</th>\n",
       "      <td>0.000000</td>\n",
       "      <td>0.0000</td>\n",
       "      <td>0.000000</td>\n",
       "      <td>0.000000</td>\n",
       "      <td>0.000000</td>\n",
       "    </tr>\n",
       "    <tr>\n",
       "      <th>25%</th>\n",
       "      <td>0.000000</td>\n",
       "      <td>1.0000</td>\n",
       "      <td>1.000000</td>\n",
       "      <td>0.000000</td>\n",
       "      <td>0.000000</td>\n",
       "    </tr>\n",
       "    <tr>\n",
       "      <th>50%</th>\n",
       "      <td>0.000000</td>\n",
       "      <td>2.0000</td>\n",
       "      <td>2.000000</td>\n",
       "      <td>1.000000</td>\n",
       "      <td>1.000000</td>\n",
       "    </tr>\n",
       "    <tr>\n",
       "      <th>75%</th>\n",
       "      <td>1.000000</td>\n",
       "      <td>3.0000</td>\n",
       "      <td>4.000000</td>\n",
       "      <td>1.000000</td>\n",
       "      <td>1.000000</td>\n",
       "    </tr>\n",
       "    <tr>\n",
       "      <th>max</th>\n",
       "      <td>1.000000</td>\n",
       "      <td>4.0000</td>\n",
       "      <td>5.000000</td>\n",
       "      <td>1.000000</td>\n",
       "      <td>1.000000</td>\n",
       "    </tr>\n",
       "  </tbody>\n",
       "</table>\n",
       "</div>"
      ],
      "text/plain": [
       "           gender      race  ...       lunch  test_preparation_course\n",
       "count  800.000000  800.0000  ...  800.000000               800.000000\n",
       "mean     0.473750    2.1775  ...    0.645000                 0.638750\n",
       "std      0.499623    1.1652  ...    0.478813                 0.480663\n",
       "min      0.000000    0.0000  ...    0.000000                 0.000000\n",
       "25%      0.000000    1.0000  ...    0.000000                 0.000000\n",
       "50%      0.000000    2.0000  ...    1.000000                 1.000000\n",
       "75%      1.000000    3.0000  ...    1.000000                 1.000000\n",
       "max      1.000000    4.0000  ...    1.000000                 1.000000\n",
       "\n",
       "[8 rows x 5 columns]"
      ]
     },
     "execution_count": 34,
     "metadata": {
      "tags": []
     },
     "output_type": "execute_result"
    }
   ],
   "source": [
    "students.describe()"
   ]
  },
  {
   "cell_type": "code",
   "execution_count": 0,
   "metadata": {
    "colab": {},
    "colab_type": "code",
    "id": "1icuDCQlgAtu"
   },
   "outputs": [],
   "source": [
    "from sklearn.impute import SimpleImputer\n",
    "from sklearn.pipeline import Pipeline\n",
    "from sklearn.preprocessing import StandardScaler\n",
    "my_pipeline=Pipeline([('imputer',SimpleImputer(strategy=\"median\")),\n",
    "                      # .....add as many as you want in your pipeline\n",
    "                     ('std_scaler',StandardScaler()),\n",
    "                     ])"
   ]
  },
  {
   "cell_type": "code",
   "execution_count": 0,
   "metadata": {
    "colab": {},
    "colab_type": "code",
    "id": "xkCZp3JQgtST"
   },
   "outputs": [],
   "source": [
    "students_tr=my_pipeline.fit_transform(students)"
   ]
  },
  {
   "cell_type": "code",
   "execution_count": 38,
   "metadata": {
    "colab": {
     "base_uri": "https://localhost:8080/",
     "height": 136
    },
    "colab_type": "code",
    "id": "_k_SGPM1hFJG",
    "outputId": "47669ff0-7695-4fab-d3e3-0137a4d46c75"
   },
   "outputs": [
    {
     "data": {
      "text/plain": [
       "array([[-0.94880848, -0.15242967,  0.82090421, -1.34792485,  0.75203572],\n",
       "       [-0.94880848, -0.15242967, -1.36453129,  0.74188112,  0.75203572],\n",
       "       [ 1.05395348,  1.56508775, -1.36453129,  0.74188112,  0.75203572],\n",
       "       ...,\n",
       "       [ 1.05395348,  1.56508775, -1.36453129,  0.74188112,  0.75203572],\n",
       "       [ 1.05395348, -1.01118838, -1.36453129,  0.74188112,  0.75203572],\n",
       "       [-0.94880848, -1.01118838, -0.27181354,  0.74188112, -1.32972407]])"
      ]
     },
     "execution_count": 38,
     "metadata": {
      "tags": []
     },
     "output_type": "execute_result"
    }
   ],
   "source": [
    "students_tr"
   ]
  },
  {
   "cell_type": "code",
   "execution_count": 60,
   "metadata": {
    "colab": {
     "base_uri": "https://localhost:8080/",
     "height": 136
    },
    "colab_type": "code",
    "id": "GAHM48wLhIwu",
    "outputId": "49991dd7-75bb-46a9-9c86-f34164dbf542"
   },
   "outputs": [
    {
     "data": {
      "text/plain": [
       "RandomForestRegressor(bootstrap=True, ccp_alpha=0.0, criterion='mse',\n",
       "                      max_depth=None, max_features='auto', max_leaf_nodes=None,\n",
       "                      max_samples=None, min_impurity_decrease=0.0,\n",
       "                      min_impurity_split=None, min_samples_leaf=1,\n",
       "                      min_samples_split=2, min_weight_fraction_leaf=0.0,\n",
       "                      n_estimators=100, n_jobs=None, oob_score=False,\n",
       "                      random_state=None, verbose=0, warm_start=False)"
      ]
     },
     "execution_count": 60,
     "metadata": {
      "tags": []
     },
     "output_type": "execute_result"
    }
   ],
   "source": [
    "from sklearn.linear_model import LinearRegression\n",
    "from sklearn.tree import DecisionTreeRegressor\n",
    "from sklearn.ensemble import RandomForestRegressor\n",
    "model=LinearRegression()\n",
    "#model=DecisionTreeRegressor()\n",
    "#model=RandomForestRegressor()\n",
    "model.fit(students_tr,students_lables)"
   ]
  },
  {
   "cell_type": "code",
   "execution_count": 0,
   "metadata": {
    "colab": {},
    "colab_type": "code",
    "id": "F-H_dGWXiJxh"
   },
   "outputs": [],
   "source": [
    "from sklearn.metrics import mean_squared_error\n",
    "import numpy as np\n",
    "students_predictions=model.predict(students_tr)\n",
    "mse=mean_squared_error(students_lables,students_predictions)\n",
    "rmse=np.sqrt(mse)"
   ]
  },
  {
   "cell_type": "code",
   "execution_count": 62,
   "metadata": {
    "colab": {
     "base_uri": "https://localhost:8080/",
     "height": 34
    },
    "colab_type": "code",
    "id": "EK0OwzNdkNt6",
    "outputId": "209a9dcb-b833-4c18-ba2b-9374aac1db7d"
   },
   "outputs": [
    {
     "data": {
      "text/plain": [
       "10.906308787167056"
      ]
     },
     "execution_count": 62,
     "metadata": {
      "tags": []
     },
     "output_type": "execute_result"
    }
   ],
   "source": [
    "rmse"
   ]
  },
  {
   "cell_type": "code",
   "execution_count": 0,
   "metadata": {
    "colab": {},
    "colab_type": "code",
    "id": "KaS-nG5rkP6B"
   },
   "outputs": [],
   "source": [
    "from sklearn.model_selection import cross_val_score\n",
    "scores=cross_val_score(model,students_tr,students_lables,scoring=\"neg_mean_squared_error\",cv=10)\n",
    "rmse_scores=np.sqrt(-scores)"
   ]
  },
  {
   "cell_type": "code",
   "execution_count": 52,
   "metadata": {
    "colab": {
     "base_uri": "https://localhost:8080/",
     "height": 51
    },
    "colab_type": "code",
    "id": "_rMC5XnkkeAU",
    "outputId": "7c8b6d2c-f984-41ad-f76b-b0cd8ee91484"
   },
   "outputs": [
    {
     "data": {
      "text/plain": [
       "array([15.45878833, 14.91343447, 13.39122082, 14.63916869, 13.63609764,\n",
       "       14.14453317, 14.55111806, 13.3228132 , 12.08285093, 15.20382908])"
      ]
     },
     "execution_count": 52,
     "metadata": {
      "tags": []
     },
     "output_type": "execute_result"
    }
   ],
   "source": [
    "rmse_scores"
   ]
  },
  {
   "cell_type": "code",
   "execution_count": 0,
   "metadata": {
    "colab": {},
    "colab_type": "code",
    "id": "sIPTTqf8kiA4"
   },
   "outputs": [],
   "source": [
    "def print_scores(scores):\n",
    "    print(\"Scores:\",scores)\n",
    "    print(\"Mean:\",scores.mean())\n",
    "    print(\"Standard deviation:\",scores.std())"
   ]
  },
  {
   "cell_type": "code",
   "execution_count": 54,
   "metadata": {
    "colab": {
     "base_uri": "https://localhost:8080/",
     "height": 85
    },
    "colab_type": "code",
    "id": "XuemvvCVkvOx",
    "outputId": "7f9ba8f8-7842-4bdb-e4e3-8039c15f6a3a"
   },
   "outputs": [
    {
     "name": "stdout",
     "output_type": "stream",
     "text": [
      "Scores: [15.45878833 14.91343447 13.39122082 14.63916869 13.63609764 14.14453317\n",
      " 14.55111806 13.3228132  12.08285093 15.20382908]\n",
      "Mean: 14.134385438958224\n",
      "Standard deviation: 0.979860858010747\n"
     ]
    }
   ],
   "source": [
    "print_scores(rmse_scores)"
   ]
  },
  {
   "cell_type": "code",
   "execution_count": 55,
   "metadata": {
    "colab": {
     "base_uri": "https://localhost:8080/",
     "height": 615
    },
    "colab_type": "code",
    "id": "1ScWxDurk0np",
    "outputId": "db280e33-fbcc-4caa-f846-9634f37447a2"
   },
   "outputs": [
    {
     "name": "stdout",
     "output_type": "stream",
     "text": [
      "[71.15517797 64.47711231 55.57003367 71.18776984 59.0252381  71.18776984\n",
      " 72.80449074 71.92980556 71.47057143 69.74913925 78.07754101 63.53366667\n",
      " 58.61836376 61.64806349 73.02810185 60.73053968 82.20441667 67.88428571\n",
      " 59.32395731 63.1157619  59.6343846  59.00567063 59.00567063 79.4705\n",
      " 80.91528877 80.91528877 77.93888047 52.94258466 66.96728692 58.61836376\n",
      " 76.6667065  59.6343846  75.98821724 86.95647884 74.83919974 63.8105398\n",
      " 57.60453045 43.0852619  69.75616191 77.39258098 66.54195151 78.24075216\n",
      " 61.80690132 56.93996825 83.85267989 48.32174603 68.17612037 62.33664637\n",
      " 66.10833111 83.85267989 56.93996825 62.17125661 52.95833333 74.49122696\n",
      " 53.80766667 75.98821724 65.48246931 74.49122696 70.47489718 73.9975582\n",
      " 87.243      68.94771958 69.0955     59.38130157 57.32349471 56.76893407\n",
      " 66.95122271 53.8370114  60.09219444 71.15517797 64.07847882 82.68484127\n",
      " 88.9813355  59.6343846  80.78812049 69.41532584 60.73053968 74.84490476\n",
      " 80.78812049 67.98529365 77.2240873  71.26266667 69.66382038 59.18643398\n",
      " 71.18776984 73.65381878 78.30731004 77.39258098 52.95833333 67.46599974\n",
      " 52.54516667 73.9975582  63.53366667 67.46599974 74.84712518 78.24075216\n",
      " 44.83666667 57.85334572 75.61937569 56.42423016 59.18643398 43.0852619\n",
      " 70.47489718 65.71532732 65.48246931 64.47711231 56.8101746  80.24443747\n",
      " 69.8507214  64.07847882 66.22377237 59.49560907 66.54195151 76.6667065\n",
      " 72.71580563 68.23800559 74.84496032 68.94771958 74.31083333 55.57003367\n",
      " 71.26266667 52.8548664  57.60453045 59.32395731 74.84490476 72.71580563\n",
      " 76.68720736 82.20441667 78.25849735 82.68484127 66.95122271 54.58398545\n",
      " 62.11848124 69.0955     53.8370114  74.84490476 62.25477778 66.54195151\n",
      " 66.10833111 69.74913925 70.47489718 69.41532584 82.20441667 50.99799206\n",
      " 83.85267989 67.61256481 75.61937569 58.54666969 62.97996861 58.61836376\n",
      " 60.73053968 69.8507214  54.20388889 66.96728692 65.51782011 61.80690132\n",
      " 68.77644345 71.15517797 66.54195151 75.90383333 66.9109127  81.5847758\n",
      " 66.95122271 57.06646429 54.59000068 62.33664637 57.06646429 65.48246931\n",
      " 64.58482077 65.51782011 65.08113095 73.9975582  59.56755556 68.17612037\n",
      " 80.24443747 57.32349471 59.36561111 67.46599974 67.46599974 57.32349471\n",
      " 58.61836376 52.95833333 66.10833111 55.8554881  75.98821724 80.91528877\n",
      " 67.46599974 67.46599974 56.42423016 68.82111676 84.08250794 74.84712518\n",
      " 66.10833111 59.49560907 68.23800559 76.09748947 72.80449074 73.9975582\n",
      " 73.99859355 68.22880844] [91.66666666666667, 66.33333333333333, 71.0, 71.0, 50.666666666666664, 64.33333333333333, 54.666666666666664, 85.66666666666667, 70.0, 69.33333333333333, 79.66666666666667, 60.666666666666664, 82.33333333333333, 77.0, 50.0, 63.666666666666664, 83.0, 65.0, 70.0, 31.0, 79.66666666666667, 48.333333333333336, 9.0, 77.66666666666667, 59.0, 69.0, 74.66666666666667, 78.0, 55.666666666666664, 86.0, 72.0, 77.33333333333333, 74.33333333333333, 84.33333333333333, 84.0, 83.0, 80.33333333333333, 76.0, 91.33333333333333, 68.33333333333333, 83.66666666666667, 75.66666666666667, 85.66666666666667, 45.333333333333336, 79.33333333333333, 54.0, 73.33333333333333, 69.0, 68.33333333333333, 82.0, 53.666666666666664, 88.66666666666667, 60.0, 97.0, 66.33333333333333, 85.66666666666667, 40.0, 77.66666666666667, 47.666666666666664, 71.66666666666667, 97.66666666666667, 64.0, 65.0, 60.333333333333336, 69.66666666666667, 81.33333333333333, 69.33333333333333, 39.0, 48.333333333333336, 56.333333333333336, 79.33333333333333, 75.33333333333333, 70.33333333333333, 83.0, 89.66666666666667, 52.0, 64.33333333333333, 75.66666666666667, 76.0, 97.66666666666667, 78.0, 63.666666666666664, 65.66666666666667, 69.66666666666667, 87.0, 76.66666666666667, 86.33333333333333, 72.33333333333333, 51.0, 82.33333333333333, 81.0, 56.0, 75.66666666666667, 29.333333333333332, 74.0, 73.66666666666667, 76.66666666666667, 60.0, 83.66666666666667, 79.66666666666667, 49.0, 73.33333333333333, 39.666666666666664, 68.33333333333333, 82.33333333333333, 79.66666666666667, 66.0, 64.33333333333333, 70.33333333333333, 64.0, 62.333333333333336, 60.333333333333336, 53.333333333333336, 71.33333333333333, 60.333333333333336, 79.33333333333333, 91.66666666666667, 71.33333333333333, 70.66666666666667, 51.0, 73.33333333333333, 66.0, 84.0, 80.33333333333333, 87.33333333333333, 73.66666666666667, 75.0, 83.66666666666667, 67.66666666666667, 49.0, 83.0, 41.333333333333336, 61.0, 59.333333333333336, 38.333333333333336, 71.0, 50.333333333333336, 66.0, 78.33333333333333, 73.0, 81.33333333333333, 51.666666666666664, 71.0, 51.666666666666664, 72.66666666666667, 71.33333333333333, 67.0, 65.66666666666667, 64.0, 31.333333333333332, 61.333333333333336, 71.66666666666667, 56.666666666666664, 73.0, 76.66666666666667, 65.33333333333333, 78.66666666666667, 94.0, 93.33333333333333, 79.66666666666667, 95.66666666666667, 72.66666666666667, 79.0, 67.33333333333333, 57.333333333333336, 64.66666666666667, 78.0, 73.33333333333333, 75.66666666666667, 85.33333333333333, 64.66666666666667, 51.333333333333336, 88.33333333333333, 76.33333333333333, 53.666666666666664, 71.0, 73.0, 82.66666666666667, 67.66666666666667, 56.0, 34.666666666666664, 40.666666666666664, 59.0, 43.333333333333336, 83.0, 63.0, 75.33333333333333, 58.333333333333336, 56.0, 56.0, 77.66666666666667, 99.0, 64.0, 67.66666666666667, 86.33333333333333, 90.33333333333333, 51.333333333333336, 74.0, 81.66666666666667, 64.66666666666667]\n"
     ]
    }
   ],
   "source": [
    "x_test=strat_test_set.drop(\"average\",axis=1)\n",
    "y_test=strat_test_set[\"average\"].copy()\n",
    "x_test_prepared=my_pipeline.transform(x_test)\n",
    "final_predictions=model.predict(x_test_prepared)\n",
    "final_mse=mean_squared_error(y_test,final_predictions)\n",
    "final_rmse=np.sqrt(final_mse)\n",
    "print(final_predictions,list(y_test))"
   ]
  },
  {
   "cell_type": "code",
   "execution_count": 56,
   "metadata": {
    "colab": {
     "base_uri": "https://localhost:8080/",
     "height": 34
    },
    "colab_type": "code",
    "id": "4ZQLh2XAloIe",
    "outputId": "b1c9173b-2948-49c1-d2de-ac18f9a667b6"
   },
   "outputs": [
    {
     "data": {
      "text/plain": [
       "14.77944247300355"
      ]
     },
     "execution_count": 56,
     "metadata": {
      "tags": []
     },
     "output_type": "execute_result"
    }
   ],
   "source": [
    "\n",
    "final_rmse"
   ]
  },
  {
   "cell_type": "code",
   "execution_count": 0,
   "metadata": {
    "colab": {},
    "colab_type": "code",
    "id": "OSAnxt-jlyhB"
   },
   "outputs": [],
   "source": []
  }
 ],
 "metadata": {
  "colab": {
   "name": "student's_average.ipynb",
   "provenance": []
  },
  "kernelspec": {
   "display_name": "Python 3",
   "language": "python",
   "name": "python3"
  },
  "language_info": {
   "codemirror_mode": {
    "name": "ipython",
    "version": 3
   },
   "file_extension": ".py",
   "mimetype": "text/x-python",
   "name": "python",
   "nbconvert_exporter": "python",
   "pygments_lexer": "ipython3",
   "version": "3.7.4"
  }
 },
 "nbformat": 4,
 "nbformat_minor": 1
}
